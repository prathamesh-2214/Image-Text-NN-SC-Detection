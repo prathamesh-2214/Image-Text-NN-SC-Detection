{
 "cells": [
  {
   "cell_type": "markdown",
   "metadata": {},
   "source": [
    "Study Various Feature extraction techniques to extract the Image Descriptors"
   ]
  },
  {
   "cell_type": "markdown",
   "metadata": {},
   "source": [
    "1. HoG\n",
    "2. LBP Texture\n",
    "3. Color Histogram\n",
    "4. Hu Moments and Zernlike Moments\n",
    "5. Haralick Textures"
   ]
  },
  {
   "cell_type": "code",
   "execution_count": 1,
   "metadata": {},
   "outputs": [
    {
     "name": "stderr",
     "output_type": "stream",
     "text": [
      "c:\\Users\\Dell\\AppData\\Local\\Programs\\Python\\Python39\\lib\\site-packages\\scipy\\__init__.py:146: UserWarning: A NumPy version >=1.17.3 and <1.25.0 is required for this version of SciPy (detected version 1.26.2\n",
      "  warnings.warn(f\"A NumPy version >={np_minversion} and <{np_maxversion}\"\n"
     ]
    }
   ],
   "source": [
    "# importing the libraries\n",
    "import numpy as np\n",
    "import pandas as pd\n",
    "import os\n",
    "from glob import glob\n",
    "import seaborn as sns\n",
    "from PIL import Image\n",
    "from skimage.io import imread\n",
    "from skimage.transform import resize\n",
    "from skimage.feature import hog\n",
    "from skimage import exposure\n",
    "import matplotlib.pyplot as plt\n",
    "import cv2\n",
    "import mahotas\n",
    "from skimage import feature\n",
    "import numpy as np\n",
    "import mahotas as mt\n"
   ]
  },
  {
   "cell_type": "code",
   "execution_count": 2,
   "metadata": {},
   "outputs": [
    {
     "data": {
      "text/html": [
       "<div>\n",
       "<style scoped>\n",
       "    .dataframe tbody tr th:only-of-type {\n",
       "        vertical-align: middle;\n",
       "    }\n",
       "\n",
       "    .dataframe tbody tr th {\n",
       "        vertical-align: top;\n",
       "    }\n",
       "\n",
       "    .dataframe thead th {\n",
       "        text-align: right;\n",
       "    }\n",
       "</style>\n",
       "<table border=\"1\" class=\"dataframe\">\n",
       "  <thead>\n",
       "    <tr style=\"text-align: right;\">\n",
       "      <th></th>\n",
       "      <th>lesion_id</th>\n",
       "      <th>image_id</th>\n",
       "      <th>dx</th>\n",
       "      <th>dx_type</th>\n",
       "      <th>age</th>\n",
       "      <th>sex</th>\n",
       "      <th>localization</th>\n",
       "      <th>dataset</th>\n",
       "    </tr>\n",
       "  </thead>\n",
       "  <tbody>\n",
       "    <tr>\n",
       "      <th>0</th>\n",
       "      <td>HAM_0000118</td>\n",
       "      <td>ISIC_0027419</td>\n",
       "      <td>bkl</td>\n",
       "      <td>histo</td>\n",
       "      <td>80.0</td>\n",
       "      <td>male</td>\n",
       "      <td>scalp</td>\n",
       "      <td>vidir_modern</td>\n",
       "    </tr>\n",
       "    <tr>\n",
       "      <th>1</th>\n",
       "      <td>HAM_0000118</td>\n",
       "      <td>ISIC_0025030</td>\n",
       "      <td>bkl</td>\n",
       "      <td>histo</td>\n",
       "      <td>80.0</td>\n",
       "      <td>male</td>\n",
       "      <td>scalp</td>\n",
       "      <td>vidir_modern</td>\n",
       "    </tr>\n",
       "    <tr>\n",
       "      <th>2</th>\n",
       "      <td>HAM_0002730</td>\n",
       "      <td>ISIC_0026769</td>\n",
       "      <td>bkl</td>\n",
       "      <td>histo</td>\n",
       "      <td>80.0</td>\n",
       "      <td>male</td>\n",
       "      <td>scalp</td>\n",
       "      <td>vidir_modern</td>\n",
       "    </tr>\n",
       "    <tr>\n",
       "      <th>3</th>\n",
       "      <td>HAM_0002730</td>\n",
       "      <td>ISIC_0025661</td>\n",
       "      <td>bkl</td>\n",
       "      <td>histo</td>\n",
       "      <td>80.0</td>\n",
       "      <td>male</td>\n",
       "      <td>scalp</td>\n",
       "      <td>vidir_modern</td>\n",
       "    </tr>\n",
       "    <tr>\n",
       "      <th>4</th>\n",
       "      <td>HAM_0001466</td>\n",
       "      <td>ISIC_0031633</td>\n",
       "      <td>bkl</td>\n",
       "      <td>histo</td>\n",
       "      <td>75.0</td>\n",
       "      <td>male</td>\n",
       "      <td>ear</td>\n",
       "      <td>vidir_modern</td>\n",
       "    </tr>\n",
       "  </tbody>\n",
       "</table>\n",
       "</div>"
      ],
      "text/plain": [
       "     lesion_id      image_id   dx dx_type   age   sex localization  \\\n",
       "0  HAM_0000118  ISIC_0027419  bkl   histo  80.0  male        scalp   \n",
       "1  HAM_0000118  ISIC_0025030  bkl   histo  80.0  male        scalp   \n",
       "2  HAM_0002730  ISIC_0026769  bkl   histo  80.0  male        scalp   \n",
       "3  HAM_0002730  ISIC_0025661  bkl   histo  80.0  male        scalp   \n",
       "4  HAM_0001466  ISIC_0031633  bkl   histo  75.0  male          ear   \n",
       "\n",
       "        dataset  \n",
       "0  vidir_modern  \n",
       "1  vidir_modern  \n",
       "2  vidir_modern  \n",
       "3  vidir_modern  \n",
       "4  vidir_modern  "
      ]
     },
     "execution_count": 2,
     "metadata": {},
     "output_type": "execute_result"
    }
   ],
   "source": [
    "# reading the dataset\n",
    "\n",
    "dataset = pd.read_csv(\"E:\\Final_Year_Project\\Implementation\\Image-Text-NN-SC-Detection\\Analysis\\HAM10000_metadata.csv\")\n",
    "dataset.head()\n"
   ]
  },
  {
   "cell_type": "code",
   "execution_count": 3,
   "metadata": {},
   "outputs": [
    {
     "data": {
      "text/html": [
       "<div>\n",
       "<style scoped>\n",
       "    .dataframe tbody tr th:only-of-type {\n",
       "        vertical-align: middle;\n",
       "    }\n",
       "\n",
       "    .dataframe tbody tr th {\n",
       "        vertical-align: top;\n",
       "    }\n",
       "\n",
       "    .dataframe thead th {\n",
       "        text-align: right;\n",
       "    }\n",
       "</style>\n",
       "<table border=\"1\" class=\"dataframe\">\n",
       "  <thead>\n",
       "    <tr style=\"text-align: right;\">\n",
       "      <th></th>\n",
       "      <th>lesion_id</th>\n",
       "      <th>image_id</th>\n",
       "      <th>dx</th>\n",
       "      <th>dx_type</th>\n",
       "      <th>age</th>\n",
       "      <th>sex</th>\n",
       "      <th>localization</th>\n",
       "      <th>dataset</th>\n",
       "      <th>cell_type</th>\n",
       "      <th>cell_type_idx</th>\n",
       "      <th>Feature_1</th>\n",
       "      <th>Feature_2</th>\n",
       "    </tr>\n",
       "  </thead>\n",
       "  <tbody>\n",
       "    <tr>\n",
       "      <th>0</th>\n",
       "      <td>HAM_0000118</td>\n",
       "      <td>ISIC_0027419</td>\n",
       "      <td>bkl</td>\n",
       "      <td>histo</td>\n",
       "      <td>80.0</td>\n",
       "      <td>male</td>\n",
       "      <td>scalp</td>\n",
       "      <td>vidir_modern</td>\n",
       "      <td>Benign keratosis-like lesions</td>\n",
       "      <td>2</td>\n",
       "      <td>102</td>\n",
       "      <td>25.0</td>\n",
       "    </tr>\n",
       "    <tr>\n",
       "      <th>1</th>\n",
       "      <td>HAM_0000118</td>\n",
       "      <td>ISIC_0025030</td>\n",
       "      <td>bkl</td>\n",
       "      <td>histo</td>\n",
       "      <td>80.0</td>\n",
       "      <td>male</td>\n",
       "      <td>scalp</td>\n",
       "      <td>vidir_modern</td>\n",
       "      <td>Benign keratosis-like lesions</td>\n",
       "      <td>2</td>\n",
       "      <td>102</td>\n",
       "      <td>25.0</td>\n",
       "    </tr>\n",
       "    <tr>\n",
       "      <th>2</th>\n",
       "      <td>HAM_0002730</td>\n",
       "      <td>ISIC_0026769</td>\n",
       "      <td>bkl</td>\n",
       "      <td>histo</td>\n",
       "      <td>80.0</td>\n",
       "      <td>male</td>\n",
       "      <td>scalp</td>\n",
       "      <td>vidir_modern</td>\n",
       "      <td>Benign keratosis-like lesions</td>\n",
       "      <td>2</td>\n",
       "      <td>102</td>\n",
       "      <td>25.0</td>\n",
       "    </tr>\n",
       "    <tr>\n",
       "      <th>3</th>\n",
       "      <td>HAM_0002730</td>\n",
       "      <td>ISIC_0025661</td>\n",
       "      <td>bkl</td>\n",
       "      <td>histo</td>\n",
       "      <td>80.0</td>\n",
       "      <td>male</td>\n",
       "      <td>scalp</td>\n",
       "      <td>vidir_modern</td>\n",
       "      <td>Benign keratosis-like lesions</td>\n",
       "      <td>2</td>\n",
       "      <td>102</td>\n",
       "      <td>25.0</td>\n",
       "    </tr>\n",
       "    <tr>\n",
       "      <th>4</th>\n",
       "      <td>HAM_0001466</td>\n",
       "      <td>ISIC_0031633</td>\n",
       "      <td>bkl</td>\n",
       "      <td>histo</td>\n",
       "      <td>75.0</td>\n",
       "      <td>male</td>\n",
       "      <td>ear</td>\n",
       "      <td>vidir_modern</td>\n",
       "      <td>Benign keratosis-like lesions</td>\n",
       "      <td>2</td>\n",
       "      <td>250</td>\n",
       "      <td>25.0</td>\n",
       "    </tr>\n",
       "  </tbody>\n",
       "</table>\n",
       "</div>"
      ],
      "text/plain": [
       "     lesion_id      image_id   dx dx_type   age   sex localization  \\\n",
       "0  HAM_0000118  ISIC_0027419  bkl   histo  80.0  male        scalp   \n",
       "1  HAM_0000118  ISIC_0025030  bkl   histo  80.0  male        scalp   \n",
       "2  HAM_0002730  ISIC_0026769  bkl   histo  80.0  male        scalp   \n",
       "3  HAM_0002730  ISIC_0025661  bkl   histo  80.0  male        scalp   \n",
       "4  HAM_0001466  ISIC_0031633  bkl   histo  75.0  male          ear   \n",
       "\n",
       "        dataset                       cell_type  cell_type_idx  Feature_1  \\\n",
       "0  vidir_modern  Benign keratosis-like lesions               2        102   \n",
       "1  vidir_modern  Benign keratosis-like lesions               2        102   \n",
       "2  vidir_modern  Benign keratosis-like lesions               2        102   \n",
       "3  vidir_modern  Benign keratosis-like lesions               2        102   \n",
       "4  vidir_modern  Benign keratosis-like lesions               2        250   \n",
       "\n",
       "   Feature_2  \n",
       "0       25.0  \n",
       "1       25.0  \n",
       "2       25.0  \n",
       "3       25.0  \n",
       "4       25.0  "
      ]
     },
     "execution_count": 3,
     "metadata": {},
     "output_type": "execute_result"
    }
   ],
   "source": [
    "# The diesease- dx is made into a more human readable format of which type of skin cancer cell it is\n",
    "lesion_type_dict = {\n",
    "                    'nv': 'Melanocytic nevi',\n",
    "                    'mel': 'Melanoma',\n",
    "                    'bkl': 'Benign keratosis-like lesions ',\n",
    "                    'bcc': 'Basal cell carcinoma',\n",
    "                    'akiec': 'Actinic keratoses',\n",
    "                    'vasc': 'Vascular lesions',\n",
    "                    'df': 'Dermatofibroma'\n",
    "                    }\n",
    "\n",
    "dataset['cell_type'] = dataset['dx'].map(lesion_type_dict.get) \n",
    "dataset['cell_type_idx'] = pd.Categorical(dataset['cell_type']).codes\n",
    "\n",
    "\n",
    "    \n",
    "localization_type_dict = {'abdomen': 50,\n",
    "                            'acral': 100,\n",
    "                            'back': 150,\n",
    "                            'chest': 200,\n",
    "                            'ear': 250,\n",
    "                            'face': 51,\n",
    "                            'foot': 101,\n",
    "                            'genital': 151,\n",
    "                            'hand': 201,\n",
    "                            'lower extremity': 251,\n",
    "                            'neck': 52,\n",
    "                            'scalp': 102,\n",
    "                            'trunk': 152,\n",
    "                            'unknown': 202,\n",
    "                            'upper extremity': 252}\n",
    "\n",
    "gender_type_dict = {'male': 25,\n",
    "                    'female': 50}\n",
    "\n",
    "dataset['Feature_1'] = dataset['localization'].map(localization_type_dict.get) \n",
    "dataset['Feature_2'] = dataset['sex'].map(gender_type_dict.get)\n",
    "\n",
    "dataset.head()"
   ]
  },
  {
   "cell_type": "code",
   "execution_count": 4,
   "metadata": {},
   "outputs": [
    {
     "data": {
      "text/plain": [
       "45.0    1299\n",
       "50.0    1187\n",
       "55.0    1009\n",
       "40.0     985\n",
       "60.0     803\n",
       "70.0     756\n",
       "35.0     753\n",
       "65.0     731\n",
       "75.0     618\n",
       "30.0     464\n",
       "80.0     404\n",
       "85.0     290\n",
       "25.0     247\n",
       "20.0     169\n",
       "5.0       86\n",
       "15.0      77\n",
       "10.0      41\n",
       "0.0       39\n",
       "Name: age, dtype: int64"
      ]
     },
     "execution_count": 4,
     "metadata": {},
     "output_type": "execute_result"
    }
   ],
   "source": [
    "dataset['age'].value_counts()"
   ]
  },
  {
   "cell_type": "code",
   "execution_count": 7,
   "metadata": {},
   "outputs": [],
   "source": [
    "# imputation with median values as we have an ordinal variable age, and less sensitive to extremes\n",
    "dataset[\"age\"].fillna(dataset.age.median(), inplace = True)"
   ]
  },
  {
   "cell_type": "code",
   "execution_count": 6,
   "metadata": {},
   "outputs": [
    {
     "data": {
      "text/plain": [
       "45.0    1299\n",
       "50.0    1283\n",
       "55.0    1009\n",
       "40.0     985\n",
       "60.0     803\n",
       "70.0     756\n",
       "35.0     753\n",
       "65.0     731\n",
       "75.0     618\n",
       "30.0     464\n",
       "80.0     404\n",
       "85.0     290\n",
       "25.0     247\n",
       "20.0     169\n",
       "5.0       86\n",
       "15.0      77\n",
       "10.0      41\n",
       "Name: age, dtype: int64"
      ]
     },
     "execution_count": 6,
     "metadata": {},
     "output_type": "execute_result"
    }
   ],
   "source": [
    "dataset.loc[dataset['age'] == 0.0] = dataset.age.median()\n",
    "dataset.age.value_counts()"
   ]
  },
  {
   "cell_type": "code",
   "execution_count": 4,
   "metadata": {},
   "outputs": [
    {
     "data": {
      "text/html": [
       "<div>\n",
       "<style scoped>\n",
       "    .dataframe tbody tr th:only-of-type {\n",
       "        vertical-align: middle;\n",
       "    }\n",
       "\n",
       "    .dataframe tbody tr th {\n",
       "        vertical-align: top;\n",
       "    }\n",
       "\n",
       "    .dataframe thead th {\n",
       "        text-align: right;\n",
       "    }\n",
       "</style>\n",
       "<table border=\"1\" class=\"dataframe\">\n",
       "  <thead>\n",
       "    <tr style=\"text-align: right;\">\n",
       "      <th></th>\n",
       "      <th>lesion_id</th>\n",
       "      <th>image_id</th>\n",
       "      <th>dx</th>\n",
       "      <th>dx_type</th>\n",
       "      <th>age</th>\n",
       "      <th>sex</th>\n",
       "      <th>localization</th>\n",
       "      <th>dataset</th>\n",
       "      <th>cell_type</th>\n",
       "      <th>cell_type_idx</th>\n",
       "      <th>Feature_1</th>\n",
       "      <th>Feature_2</th>\n",
       "      <th>path</th>\n",
       "    </tr>\n",
       "  </thead>\n",
       "  <tbody>\n",
       "    <tr>\n",
       "      <th>0</th>\n",
       "      <td>HAM_0000118</td>\n",
       "      <td>ISIC_0027419</td>\n",
       "      <td>bkl</td>\n",
       "      <td>histo</td>\n",
       "      <td>80.0</td>\n",
       "      <td>male</td>\n",
       "      <td>scalp</td>\n",
       "      <td>vidir_modern</td>\n",
       "      <td>Benign keratosis-like lesions</td>\n",
       "      <td>2</td>\n",
       "      <td>102</td>\n",
       "      <td>25.0</td>\n",
       "      <td>..\\Data\\HAM10000_images_part_1\\ISIC_0027419.jpg</td>\n",
       "    </tr>\n",
       "    <tr>\n",
       "      <th>1</th>\n",
       "      <td>HAM_0000118</td>\n",
       "      <td>ISIC_0025030</td>\n",
       "      <td>bkl</td>\n",
       "      <td>histo</td>\n",
       "      <td>80.0</td>\n",
       "      <td>male</td>\n",
       "      <td>scalp</td>\n",
       "      <td>vidir_modern</td>\n",
       "      <td>Benign keratosis-like lesions</td>\n",
       "      <td>2</td>\n",
       "      <td>102</td>\n",
       "      <td>25.0</td>\n",
       "      <td>..\\Data\\HAM10000_images_part_1\\ISIC_0025030.jpg</td>\n",
       "    </tr>\n",
       "    <tr>\n",
       "      <th>2</th>\n",
       "      <td>HAM_0002730</td>\n",
       "      <td>ISIC_0026769</td>\n",
       "      <td>bkl</td>\n",
       "      <td>histo</td>\n",
       "      <td>80.0</td>\n",
       "      <td>male</td>\n",
       "      <td>scalp</td>\n",
       "      <td>vidir_modern</td>\n",
       "      <td>Benign keratosis-like lesions</td>\n",
       "      <td>2</td>\n",
       "      <td>102</td>\n",
       "      <td>25.0</td>\n",
       "      <td>..\\Data\\HAM10000_images_part_1\\ISIC_0026769.jpg</td>\n",
       "    </tr>\n",
       "    <tr>\n",
       "      <th>3</th>\n",
       "      <td>HAM_0002730</td>\n",
       "      <td>ISIC_0025661</td>\n",
       "      <td>bkl</td>\n",
       "      <td>histo</td>\n",
       "      <td>80.0</td>\n",
       "      <td>male</td>\n",
       "      <td>scalp</td>\n",
       "      <td>vidir_modern</td>\n",
       "      <td>Benign keratosis-like lesions</td>\n",
       "      <td>2</td>\n",
       "      <td>102</td>\n",
       "      <td>25.0</td>\n",
       "      <td>..\\Data\\HAM10000_images_part_1\\ISIC_0025661.jpg</td>\n",
       "    </tr>\n",
       "    <tr>\n",
       "      <th>4</th>\n",
       "      <td>HAM_0001466</td>\n",
       "      <td>ISIC_0031633</td>\n",
       "      <td>bkl</td>\n",
       "      <td>histo</td>\n",
       "      <td>75.0</td>\n",
       "      <td>male</td>\n",
       "      <td>ear</td>\n",
       "      <td>vidir_modern</td>\n",
       "      <td>Benign keratosis-like lesions</td>\n",
       "      <td>2</td>\n",
       "      <td>250</td>\n",
       "      <td>25.0</td>\n",
       "      <td>..\\Data\\HAM10000_images_part_2\\ISIC_0031633.jpg</td>\n",
       "    </tr>\n",
       "  </tbody>\n",
       "</table>\n",
       "</div>"
      ],
      "text/plain": [
       "     lesion_id      image_id   dx dx_type   age   sex localization  \\\n",
       "0  HAM_0000118  ISIC_0027419  bkl   histo  80.0  male        scalp   \n",
       "1  HAM_0000118  ISIC_0025030  bkl   histo  80.0  male        scalp   \n",
       "2  HAM_0002730  ISIC_0026769  bkl   histo  80.0  male        scalp   \n",
       "3  HAM_0002730  ISIC_0025661  bkl   histo  80.0  male        scalp   \n",
       "4  HAM_0001466  ISIC_0031633  bkl   histo  75.0  male          ear   \n",
       "\n",
       "        dataset                       cell_type  cell_type_idx  Feature_1  \\\n",
       "0  vidir_modern  Benign keratosis-like lesions               2        102   \n",
       "1  vidir_modern  Benign keratosis-like lesions               2        102   \n",
       "2  vidir_modern  Benign keratosis-like lesions               2        102   \n",
       "3  vidir_modern  Benign keratosis-like lesions               2        102   \n",
       "4  vidir_modern  Benign keratosis-like lesions               2        250   \n",
       "\n",
       "   Feature_2                                             path  \n",
       "0       25.0  ..\\Data\\HAM10000_images_part_1\\ISIC_0027419.jpg  \n",
       "1       25.0  ..\\Data\\HAM10000_images_part_1\\ISIC_0025030.jpg  \n",
       "2       25.0  ..\\Data\\HAM10000_images_part_1\\ISIC_0026769.jpg  \n",
       "3       25.0  ..\\Data\\HAM10000_images_part_1\\ISIC_0025661.jpg  \n",
       "4       25.0  ..\\Data\\HAM10000_images_part_2\\ISIC_0031633.jpg  "
      ]
     },
     "execution_count": 4,
     "metadata": {},
     "output_type": "execute_result"
    }
   ],
   "source": [
    "# Define image path\n",
    "\n",
    "base_skin_dir = os.path.join(\"..\",\"Data\")\n",
    "imageid_path_dict = {os.path.splitext(os.path.basename(x))[0]: x\n",
    "                     for x in glob(os.path.join(base_skin_dir,'*','*.jpg'))}\n",
    "\n",
    "dataset['path'] = dataset['image_id'].map(imageid_path_dict.get)\n",
    "dataset.head()\n"
   ]
  },
  {
   "cell_type": "code",
   "execution_count": 5,
   "metadata": {},
   "outputs": [],
   "source": [
    "# loading into dataframe\n",
    "dataset['image'] = dataset['path'].map(lambda x: np.asarray(Image.open(x).resize((256,246))))"
   ]
  },
  {
   "cell_type": "code",
   "execution_count": 6,
   "metadata": {},
   "outputs": [],
   "source": [
    "dataset['age'] = dataset['age'].replace(0,dataset.age.median())"
   ]
  },
  {
   "cell_type": "code",
   "execution_count": null,
   "metadata": {},
   "outputs": [
    {
     "data": {
      "text/plain": [
       "0    ISIC_0027419\n",
       "1    ISIC_0025030\n",
       "2    ISIC_0026769\n",
       "3    ISIC_0025661\n",
       "4    ISIC_0031633\n",
       "Name: image_id, dtype: object"
      ]
     },
     "execution_count": 43,
     "metadata": {},
     "output_type": "execute_result"
    }
   ],
   "source": [
    "dataset['image_id'].head()"
   ]
  },
  {
   "cell_type": "markdown",
   "metadata": {},
   "source": [
    "### Data Augmentation - Shear, Flip, Brightness"
   ]
  },
  {
   "cell_type": "code",
   "execution_count": null,
   "metadata": {},
   "outputs": [],
   "source": [
    "# train_generator=datagen.flow_from_dataframe(dataframe=dataset, \\\n",
    "#      x_col=\"path\", y_col=\"cell_type\",save_to_dir=\"E:/Final_Year_Project/Implementation/Image-Text-NN-SC-Detection/New_Data\",  \\\n",
    "#          save_format='png', class_mode=\"categorical\")"
   ]
  },
  {
   "cell_type": "markdown",
   "metadata": {},
   "source": [
    "Resample based on distribution as these represent real world traits and Population Distribution should remain same"
   ]
  },
  {
   "cell_type": "code",
   "execution_count": 8,
   "metadata": {},
   "outputs": [
    {
     "name": "stdout",
     "output_type": "stream",
     "text": [
      "Classes to be Undersampled: ['Melanocytic nevi', 'Melanoma', 'Benign keratosis-like lesions ', 'Basal cell carcinoma', 'Actinic keratoses']\n",
      "Classes to be Oversampled: ['Vascular lesions', 'Dermatofibroma']\n",
      "Oversampling CLass.....Vascular lesions\n",
      "Augmented DataFrame Shape: (52, 15)\n",
      "(246, 256, 3) (246, 256, 3)\n",
      "<class 'numpy.ndarray'>\n",
      "(246, 256, 3) (246, 256, 3)\n",
      "<class 'numpy.ndarray'>\n",
      "(246, 256, 3) (246, 256, 3)\n",
      "<class 'numpy.ndarray'>\n",
      "(246, 256, 3) (246, 256, 3)\n",
      "<class 'numpy.ndarray'>\n",
      "(246, 256, 3) (246, 256, 3)\n",
      "<class 'numpy.ndarray'>\n",
      "(246, 256, 3) (246, 256, 3)\n",
      "<class 'numpy.ndarray'>\n",
      "(246, 256, 3) (246, 256, 3)\n",
      "<class 'numpy.ndarray'>\n",
      "(246, 256, 3) (246, 256, 3)\n",
      "<class 'numpy.ndarray'>\n",
      "(246, 256, 3) (246, 256, 3)\n",
      "<class 'numpy.ndarray'>\n",
      "(246, 256, 3) (246, 256, 3)\n",
      "<class 'numpy.ndarray'>\n",
      "(246, 256, 3) (246, 256, 3)\n",
      "<class 'numpy.ndarray'>\n",
      "(246, 256, 3) (246, 256, 3)\n",
      "<class 'numpy.ndarray'>\n",
      "(246, 256, 3) (246, 256, 3)\n",
      "<class 'numpy.ndarray'>\n",
      "(246, 256, 3) (246, 256, 3)\n",
      "<class 'numpy.ndarray'>\n",
      "(246, 256, 3) (246, 256, 3)\n",
      "<class 'numpy.ndarray'>\n",
      "(246, 256, 3) (246, 256, 3)\n",
      "<class 'numpy.ndarray'>\n",
      "(246, 256, 3) (246, 256, 3)\n",
      "<class 'numpy.ndarray'>\n",
      "(246, 256, 3) (246, 256, 3)\n",
      "<class 'numpy.ndarray'>\n",
      "(246, 256, 3) (246, 256, 3)\n",
      "<class 'numpy.ndarray'>\n",
      "(246, 256, 3) (246, 256, 3)\n",
      "<class 'numpy.ndarray'>\n",
      "(246, 256, 3) (246, 256, 3)\n",
      "<class 'numpy.ndarray'>\n",
      "(246, 256, 3) (246, 256, 3)\n",
      "<class 'numpy.ndarray'>\n",
      "(246, 256, 3) (246, 256, 3)\n",
      "<class 'numpy.ndarray'>\n",
      "(246, 256, 3) (246, 256, 3)\n",
      "<class 'numpy.ndarray'>\n",
      "(246, 256, 3) (246, 256, 3)\n",
      "<class 'numpy.ndarray'>\n",
      "(246, 256, 3) (246, 256, 3)\n",
      "<class 'numpy.ndarray'>\n",
      "Oversampling CLass.....Dermatofibroma\n",
      "Augmented DataFrame Shape: (81, 15)\n",
      "(246, 256, 3) (246, 256, 3)\n",
      "<class 'numpy.ndarray'>\n",
      "(246, 256, 3) (246, 256, 3)\n",
      "<class 'numpy.ndarray'>\n",
      "(246, 256, 3) (246, 256, 3)\n",
      "<class 'numpy.ndarray'>\n",
      "(246, 256, 3) (246, 256, 3)\n",
      "<class 'numpy.ndarray'>\n",
      "(246, 256, 3) (246, 256, 3)\n",
      "<class 'numpy.ndarray'>\n",
      "(246, 256, 3) (246, 256, 3)\n",
      "<class 'numpy.ndarray'>\n",
      "(246, 256, 3) (246, 256, 3)\n",
      "<class 'numpy.ndarray'>\n",
      "(246, 256, 3) (246, 256, 3)\n",
      "<class 'numpy.ndarray'>\n",
      "(246, 256, 3) (246, 256, 3)\n",
      "<class 'numpy.ndarray'>\n",
      "(246, 256, 3) (246, 256, 3)\n",
      "<class 'numpy.ndarray'>\n",
      "(246, 256, 3) (246, 256, 3)\n",
      "<class 'numpy.ndarray'>\n",
      "(246, 256, 3) (246, 256, 3)\n",
      "<class 'numpy.ndarray'>\n",
      "(246, 256, 3) (246, 256, 3)\n",
      "<class 'numpy.ndarray'>\n",
      "(246, 256, 3) (246, 256, 3)\n",
      "<class 'numpy.ndarray'>\n",
      "(246, 256, 3) (246, 256, 3)\n",
      "<class 'numpy.ndarray'>\n",
      "(246, 256, 3) (246, 256, 3)\n",
      "<class 'numpy.ndarray'>\n",
      "(246, 256, 3) (246, 256, 3)\n",
      "<class 'numpy.ndarray'>\n",
      "(246, 256, 3) (246, 256, 3)\n",
      "<class 'numpy.ndarray'>\n",
      "(246, 256, 3) (246, 256, 3)\n",
      "<class 'numpy.ndarray'>\n",
      "(246, 256, 3) (246, 256, 3)\n",
      "<class 'numpy.ndarray'>\n",
      "(246, 256, 3) (246, 256, 3)\n",
      "<class 'numpy.ndarray'>\n",
      "(246, 256, 3) (246, 256, 3)\n",
      "<class 'numpy.ndarray'>\n",
      "(246, 256, 3) (246, 256, 3)\n",
      "<class 'numpy.ndarray'>\n",
      "(246, 256, 3) (246, 256, 3)\n",
      "<class 'numpy.ndarray'>\n",
      "(246, 256, 3) (246, 256, 3)\n",
      "<class 'numpy.ndarray'>\n",
      "(246, 256, 3) (246, 256, 3)\n",
      "<class 'numpy.ndarray'>\n",
      "(246, 256, 3) (246, 256, 3)\n",
      "<class 'numpy.ndarray'>\n",
      "(246, 256, 3) (246, 256, 3)\n",
      "<class 'numpy.ndarray'>\n",
      "(246, 256, 3) (246, 256, 3)\n",
      "<class 'numpy.ndarray'>\n",
      "(246, 256, 3) (246, 256, 3)\n",
      "<class 'numpy.ndarray'>\n",
      "(246, 256, 3) (246, 256, 3)\n",
      "<class 'numpy.ndarray'>\n",
      "(246, 256, 3) (246, 256, 3)\n",
      "<class 'numpy.ndarray'>\n",
      "(246, 256, 3) (246, 256, 3)\n",
      "<class 'numpy.ndarray'>\n",
      "(246, 256, 3) (246, 256, 3)\n",
      "<class 'numpy.ndarray'>\n",
      "(246, 256, 3) (246, 256, 3)\n",
      "<class 'numpy.ndarray'>\n",
      "(246, 256, 3) (246, 256, 3)\n",
      "<class 'numpy.ndarray'>\n",
      "(246, 256, 3) (246, 256, 3)\n",
      "<class 'numpy.ndarray'>\n",
      "(246, 256, 3) (246, 256, 3)\n",
      "<class 'numpy.ndarray'>\n",
      "(246, 256, 3) (246, 256, 3)\n",
      "<class 'numpy.ndarray'>\n",
      "(246, 256, 3) (246, 256, 3)\n",
      "<class 'numpy.ndarray'>\n",
      "(246, 256, 3) (246, 256, 3)\n"
     ]
    }
   ],
   "source": [
    "\n",
    "# check all distribution of classes\n",
    "\n",
    "class_count = dataset['cell_type'].value_counts()\n",
    "def handle_imbalance_classes(dataset, class_count):\n",
    "    \n",
    "    balanced_df = pd.DataFrame(columns=dataset.columns)\n",
    "    \n",
    "    u_class = list(class_count[class_count > 300].index)\n",
    "    o_class = list(class_count[class_count <= 300].index)\n",
    "    print(f\"Classes to be Undersampled: {u_class}\")\n",
    "    print(f\"Classes to be Oversampled: {o_class}\")\n",
    "    \n",
    "    # Oversampling\n",
    "    ratio_dict = {}\n",
    "    for x in o_class:\n",
    "        print(f\"Oversampling CLass.....{x}\")\n",
    "        temp = dataset[dataset['cell_type'] == x].copy()\n",
    "        get_ratio = (200 - len(temp['cell_type']))/ len(temp['cell_type'])\n",
    "        ratio_dict[x] = get_ratio\n",
    "        \n",
    "        # resample based on population distribution\n",
    "        filtered_df = temp.groupby(['localization', 'age', 'sex'], group_keys=False).apply(lambda x: x.sample(frac=get_ratio)).copy()\n",
    "        filtered_df.reset_index(inplace=True)\n",
    "        filtered_df.infer_objects().dtypes\n",
    "        print(f\"Augmented DataFrame Shape: {filtered_df.shape}\")\n",
    "        #data_type_dict = {'image': np.array()}\n",
    "        # change image names\n",
    "        for i in range(len(filtered_df)):\n",
    "            img_name = str(filtered_df.loc[i,'image_id']) + \"_HVA\"\n",
    "            img_with_format = img_name+'.jpg'\n",
    "            filtered_df.loc[i,'image_id'] = img_name\n",
    "            pathname = r\"E:\\Final_Year_Project\\Implementation\\Image-Text-NN-SC-Detection\\Data\\HAM10000_images_part_3\"\n",
    "            if i & 1:\n",
    "                h_flip = cv2.rotate(filtered_df.loc[i,'image'], cv2.ROTATE_180)\n",
    "                print(type(h_flip))\n",
    "                #filtered_df.loc[:,'image'].loc[i] = h_flip\n",
    "                save_to_path = os.path.join(pathname,img_with_format)\n",
    "                #filtered_df.loc[i,'path'] = save_to_path\n",
    "                cv2.imwrite(save_to_path,cv2.cvtColor(h_flip, cv2.COLOR_RGB2BGR))\n",
    "            else:\n",
    "                v_flip = cv2.flip(filtered_df.loc[i,'image'], 0)\n",
    "                print(filtered_df.loc[i,'image'].shape, v_flip.shape)\n",
    "                #filtered_df.loc[:,'image'].loc[i] = v_flip\n",
    "                save_to_path = os.path.join(pathname,img_with_format)\n",
    "                #filtered_df.loc[i,'path'] = save_to_path\n",
    "                cv2.imwrite(save_to_path,cv2.cvtColor(v_flip, cv2.COLOR_RGB2BGR))\n",
    "                \n",
    "        frames = [balanced_df, filtered_df, temp]\n",
    "        balanced_df = pd.concat(frames)\n",
    "        \n",
    "    return balanced_df\n",
    "    \n",
    "    \n",
    "oversampled_df = handle_imbalance_classes(dataset, class_count)"
   ]
  },
  {
   "cell_type": "markdown",
   "metadata": {},
   "source": [
    "## Important Cell"
   ]
  },
  {
   "cell_type": "code",
   "execution_count": 9,
   "metadata": {},
   "outputs": [
    {
     "data": {
      "text/html": [
       "<div>\n",
       "<style scoped>\n",
       "    .dataframe tbody tr th:only-of-type {\n",
       "        vertical-align: middle;\n",
       "    }\n",
       "\n",
       "    .dataframe tbody tr th {\n",
       "        vertical-align: top;\n",
       "    }\n",
       "\n",
       "    .dataframe thead th {\n",
       "        text-align: right;\n",
       "    }\n",
       "</style>\n",
       "<table border=\"1\" class=\"dataframe\">\n",
       "  <thead>\n",
       "    <tr style=\"text-align: right;\">\n",
       "      <th></th>\n",
       "      <th>lesion_id</th>\n",
       "      <th>image_id</th>\n",
       "      <th>dx</th>\n",
       "      <th>dx_type</th>\n",
       "      <th>age</th>\n",
       "      <th>sex</th>\n",
       "      <th>localization</th>\n",
       "      <th>dataset</th>\n",
       "      <th>cell_type</th>\n",
       "      <th>cell_type_idx</th>\n",
       "      <th>Feature_1</th>\n",
       "      <th>Feature_2</th>\n",
       "    </tr>\n",
       "  </thead>\n",
       "  <tbody>\n",
       "    <tr>\n",
       "      <th>0</th>\n",
       "      <td>HAM_0006617</td>\n",
       "      <td>ISIC_0024669_HVA</td>\n",
       "      <td>vasc</td>\n",
       "      <td>histo</td>\n",
       "      <td>25.0</td>\n",
       "      <td>female</td>\n",
       "      <td>abdomen</td>\n",
       "      <td>vidir_modern</td>\n",
       "      <td>Vascular lesions</td>\n",
       "      <td>6</td>\n",
       "      <td>50</td>\n",
       "      <td>50.0</td>\n",
       "    </tr>\n",
       "    <tr>\n",
       "      <th>1</th>\n",
       "      <td>HAM_0005938</td>\n",
       "      <td>ISIC_0025596_HVA</td>\n",
       "      <td>vasc</td>\n",
       "      <td>consensus</td>\n",
       "      <td>45.0</td>\n",
       "      <td>female</td>\n",
       "      <td>abdomen</td>\n",
       "      <td>vidir_molemax</td>\n",
       "      <td>Vascular lesions</td>\n",
       "      <td>6</td>\n",
       "      <td>50</td>\n",
       "      <td>50.0</td>\n",
       "    </tr>\n",
       "    <tr>\n",
       "      <th>2</th>\n",
       "      <td>HAM_0006852</td>\n",
       "      <td>ISIC_0033991_HVA</td>\n",
       "      <td>vasc</td>\n",
       "      <td>consensus</td>\n",
       "      <td>45.0</td>\n",
       "      <td>female</td>\n",
       "      <td>abdomen</td>\n",
       "      <td>vidir_modern</td>\n",
       "      <td>Vascular lesions</td>\n",
       "      <td>6</td>\n",
       "      <td>50</td>\n",
       "      <td>50.0</td>\n",
       "    </tr>\n",
       "    <tr>\n",
       "      <th>3</th>\n",
       "      <td>HAM_0002610</td>\n",
       "      <td>ISIC_0030606_HVA</td>\n",
       "      <td>vasc</td>\n",
       "      <td>consensus</td>\n",
       "      <td>50.0</td>\n",
       "      <td>female</td>\n",
       "      <td>abdomen</td>\n",
       "      <td>vidir_modern</td>\n",
       "      <td>Vascular lesions</td>\n",
       "      <td>6</td>\n",
       "      <td>50</td>\n",
       "      <td>50.0</td>\n",
       "    </tr>\n",
       "    <tr>\n",
       "      <th>4</th>\n",
       "      <td>HAM_0004097</td>\n",
       "      <td>ISIC_0025677_HVA</td>\n",
       "      <td>vasc</td>\n",
       "      <td>consensus</td>\n",
       "      <td>50.0</td>\n",
       "      <td>female</td>\n",
       "      <td>abdomen</td>\n",
       "      <td>vidir_molemax</td>\n",
       "      <td>Vascular lesions</td>\n",
       "      <td>6</td>\n",
       "      <td>50</td>\n",
       "      <td>50.0</td>\n",
       "    </tr>\n",
       "  </tbody>\n",
       "</table>\n",
       "</div>"
      ],
      "text/plain": [
       "     lesion_id          image_id    dx    dx_type   age     sex localization  \\\n",
       "0  HAM_0006617  ISIC_0024669_HVA  vasc      histo  25.0  female      abdomen   \n",
       "1  HAM_0005938  ISIC_0025596_HVA  vasc  consensus  45.0  female      abdomen   \n",
       "2  HAM_0006852  ISIC_0033991_HVA  vasc  consensus  45.0  female      abdomen   \n",
       "3  HAM_0002610  ISIC_0030606_HVA  vasc  consensus  50.0  female      abdomen   \n",
       "4  HAM_0004097  ISIC_0025677_HVA  vasc  consensus  50.0  female      abdomen   \n",
       "\n",
       "         dataset         cell_type cell_type_idx Feature_1 Feature_2  \n",
       "0   vidir_modern  Vascular lesions             6        50      50.0  \n",
       "1  vidir_molemax  Vascular lesions             6        50      50.0  \n",
       "2   vidir_modern  Vascular lesions             6        50      50.0  \n",
       "3   vidir_modern  Vascular lesions             6        50      50.0  \n",
       "4  vidir_molemax  Vascular lesions             6        50      50.0  "
      ]
     },
     "execution_count": 9,
     "metadata": {},
     "output_type": "execute_result"
    }
   ],
   "source": [
    "oversampled_df = oversampled_df.drop(['path','image','index'],axis=1)\n",
    "oversampled_df.head()"
   ]
  },
  {
   "cell_type": "code",
   "execution_count": 10,
   "metadata": {},
   "outputs": [
    {
     "data": {
      "text/plain": [
       "(390, 12)"
      ]
     },
     "execution_count": 10,
     "metadata": {},
     "output_type": "execute_result"
    }
   ],
   "source": [
    "oversampled_df.shape"
   ]
  },
  {
   "cell_type": "code",
   "execution_count": 11,
   "metadata": {},
   "outputs": [
    {
     "data": {
      "text/plain": [
       "'..\\\\Data\\\\HAM10000_images_part_3\\\\ISIC_0029439_HVA.jpg'"
      ]
     },
     "execution_count": 11,
     "metadata": {},
     "output_type": "execute_result"
    }
   ],
   "source": [
    "# Define image path\n",
    "\n",
    "base_skin_dir = os.path.join(\"..\",\"Data\")\n",
    "imageid_path_dict = {os.path.splitext(os.path.basename(x))[0]: x\n",
    "                     for x in glob(os.path.join(base_skin_dir,'*','*.jpg'))}\n",
    "\n",
    "oversampled_df['path'] = oversampled_df['image_id'].map(imageid_path_dict.get)\n",
    "\n",
    "oversampled_df['path'].iloc[5]\n"
   ]
  },
  {
   "cell_type": "code",
   "execution_count": 12,
   "metadata": {},
   "outputs": [],
   "source": [
    "# loading into dataframe\n",
    "oversampled_df['image'] =oversampled_df['path'].map(lambda x: np.asarray(Image.open(x).resize((256,246))))"
   ]
  },
  {
   "cell_type": "code",
   "execution_count": null,
   "metadata": {},
   "outputs": [
    {
     "data": {
      "text/plain": [
       "0    ISIC_0028163_HVA\n",
       "1    ISIC_0025596_HVA\n",
       "2    ISIC_0032715_HVA\n",
       "3    ISIC_0026876_HVA\n",
       "4    ISIC_0025677_HVA\n",
       "Name: image_id, dtype: object"
      ]
     },
     "execution_count": 51,
     "metadata": {},
     "output_type": "execute_result"
    }
   ],
   "source": [
    "oversampled_df['image_id'].head(5)"
   ]
  },
  {
   "cell_type": "code",
   "execution_count": 224,
   "metadata": {},
   "outputs": [
    {
     "data": {
      "text/plain": [
       "<matplotlib.image.AxesImage at 0x1ed6bd98340>"
      ]
     },
     "execution_count": 224,
     "metadata": {},
     "output_type": "execute_result"
    },
    {
     "data": {
      "image/png": "[encoded data removed]",
      "text/plain": [
       "<Figure size 432x288 with 1 Axes>"
      ]
     },
     "metadata": {
      "needs_background": "light"
     },
     "output_type": "display_data"
    }
   ],
   "source": [
    "plt.imshow(oversampled_df['image'].iloc[1])"
   ]
  },
  {
   "cell_type": "markdown",
   "metadata": {},
   "source": [
    "#### Undersampling"
   ]
  },
  {
   "cell_type": "code",
   "execution_count": 13,
   "metadata": {},
   "outputs": [
    {
     "data": {
      "text/plain": [
       "(1510, 14)"
      ]
     },
     "execution_count": 13,
     "metadata": {},
     "output_type": "execute_result"
    }
   ],
   "source": [
    "s = pd.Series({'Melanocytic nevi': 0.2, 'Melanoma': 0.2, 'Benign keratosis-like lesions ': 0.2, 'Basal cell carcinoma': 0.2,\n",
    "               'Actinic keratoses':0.2})\n",
    "undersampled_df = dataset.sample(1510, weights=dataset['cell_type'].map(s/dataset['cell_type'].value_counts()))\n",
    "undersampled_df.shape"
   ]
  },
  {
   "cell_type": "code",
   "execution_count": 14,
   "metadata": {},
   "outputs": [
    {
     "data": {
      "text/plain": [
       "(1900, 14)"
      ]
     },
     "execution_count": 14,
     "metadata": {},
     "output_type": "execute_result"
    }
   ],
   "source": [
    "frames = [oversampled_df, undersampled_df]\n",
    "new_dataset = pd.concat(frames)\n",
    "new_dataset.shape"
   ]
  },
  {
   "cell_type": "code",
   "execution_count": 246,
   "metadata": {},
   "outputs": [],
   "source": [
    "new_dataset.drop(['index'],axis=1,inplace=True)"
   ]
  },
  {
   "cell_type": "code",
   "execution_count": 248,
   "metadata": {},
   "outputs": [
    {
     "data": {
      "text/plain": [
       "(1894, 14)"
      ]
     },
     "execution_count": 248,
     "metadata": {},
     "output_type": "execute_result"
    }
   ],
   "source": [
    "new_dataset.dropna(inplace=True)\n",
    "new_dataset.shape\n"
   ]
  },
  {
   "cell_type": "markdown",
   "metadata": {},
   "source": [
    "Adding the Features"
   ]
  },
  {
   "cell_type": "code",
   "execution_count": 99,
   "metadata": {},
   "outputs": [],
   "source": [
    "def generate_text_image(image, f1, f2, f3):\n",
    "    l,b,h=image.shape# Reshape the pixel values array to match the image dimensions\n",
    "    image_array = np.zeros((10, b, 3), dtype=np.uint8)\n",
    "    \n",
    "    for i, c in zip(range(10),range(255)):\n",
    "      for j in range(b):\n",
    "        image_array[i, j, 0] = int((f1+c)%255)\n",
    "        image_array[i, j, 1] = int((f2*c)%255)\n",
    "        image_array[i, j, 2] = int((f3+2*c)%255)\n",
    "      \n",
    "\n",
    "    return image_array\n",
    "        \n",
    "def add_text_feature(image, feature_img_arr):\n",
    "  \n",
    "  # Concatenate the images vertically\n",
    "  concatenated_image = np.concatenate((image, feature_img_arr), axis=0) \n",
    "  #print(f\"Original shape of the image: {image.shape}\")\n",
    "  #print(f\"New shape of the image: {concatenated_image.shape}\")\n",
    "  \n",
    "  return concatenated_image"
   ]
  },
  {
   "cell_type": "code",
   "execution_count": 250,
   "metadata": {},
   "outputs": [
    {
     "data": {
      "text/plain": [
       "(246, 256, 3)"
      ]
     },
     "execution_count": 250,
     "metadata": {},
     "output_type": "execute_result"
    }
   ],
   "source": [
    "## always run this\n",
    "\n",
    "new_dataset.reset_index(inplace=True)\n",
    "new_dataset.loc[:,'image'].loc[0].shape"
   ]
  },
  {
   "cell_type": "code",
   "execution_count": 40,
   "metadata": {},
   "outputs": [
    {
     "name": "stdout",
     "output_type": "stream",
     "text": [
      "Original shape of the image: (246, 256, 3)\n",
      "New shape of the image: (256, 256, 3)\n"
     ]
    },
    {
     "data": {
      "text/plain": [
       "(256, 256, 3)"
      ]
     },
     "execution_count": 40,
     "metadata": {},
     "output_type": "execute_result"
    }
   ],
   "source": [
    "x = generate_text_image(new_dataset.iloc[61]['image'], new_dataset.iloc[61]['age'], new_dataset.iloc[61]['Feature_1'], new_dataset.iloc[61]['Feature_2'])\n",
    "x = add_text_feature(new_dataset.iloc[61]['image'], x)\n",
    "x.shape\n"
   ]
  },
  {
   "cell_type": "code",
   "execution_count": 42,
   "metadata": {},
   "outputs": [],
   "source": [
    "from sklearn.decomposition import PCA\n",
    "\n",
    "def pca_image(image, n_components):\n",
    "    blue,green,red = cv2.split(image)\n",
    "    \n",
    "    #initialize PCA with first 20 principal components\n",
    "    pca = PCA(n_components,svd_solver='full')\n",
    "    \n",
    "    #Applying to red channel and then applying inverse transform to transformed array.\n",
    "    red_transformed = pca.fit_transform(red)\n",
    "    red_inverted = pca.inverse_transform(red_transformed)\n",
    "    \n",
    "    red_ratio = sum(pca.explained_variance_ratio_)\n",
    "    \n",
    "    #Applying to Green channel and then applying inverse transform to transformed array.\n",
    "    green_transformed = pca.fit_transform(green)\n",
    "    green_inverted = pca.inverse_transform(green_transformed)\n",
    "    \n",
    "    green_ratio = sum(pca.explained_variance_ratio_)\n",
    "    \n",
    "    #Applying to Blue channel and then applying inverse transform to transformed array.\n",
    "    blue_transformed = pca.fit_transform(blue)\n",
    "    blue_inverted = pca.inverse_transform(blue_transformed)\n",
    "    blue_ratio = sum(pca.explained_variance_ratio_)\n",
    "    \n",
    "    img_compressed = (np.dstack((blue_transformed, green_transformed, red_transformed))).astype(np.uint8)\n",
    "    \n",
    "    return img_compressed"
   ]
  },
  {
   "cell_type": "code",
   "execution_count": 56,
   "metadata": {},
   "outputs": [
    {
     "data": {
      "text/plain": [
       "0    [[[128, 105, 89], [134, 111, 95], [139, 116, 1...\n",
       "0    [[[39, 29, 38], [40, 30, 39], [41, 31, 40], [4...\n",
       "0    [[[187, 149, 192], [189, 152, 194], [191, 155,...\n",
       "Name: image, dtype: object"
      ]
     },
     "execution_count": 56,
     "metadata": {},
     "output_type": "execute_result"
    }
   ],
   "source": [
    "new_dataset.loc[:,'image'].loc[0]"
   ]
  },
  {
   "cell_type": "code",
   "execution_count": 69,
   "metadata": {},
   "outputs": [
    {
     "data": {
      "text/html": [
       "<div>\n",
       "<style scoped>\n",
       "    .dataframe tbody tr th:only-of-type {\n",
       "        vertical-align: middle;\n",
       "    }\n",
       "\n",
       "    .dataframe tbody tr th {\n",
       "        vertical-align: top;\n",
       "    }\n",
       "\n",
       "    .dataframe thead th {\n",
       "        text-align: right;\n",
       "    }\n",
       "</style>\n",
       "<table border=\"1\" class=\"dataframe\">\n",
       "  <thead>\n",
       "    <tr style=\"text-align: right;\">\n",
       "      <th></th>\n",
       "      <th>level_0</th>\n",
       "      <th>index</th>\n",
       "      <th>lesion_id</th>\n",
       "      <th>image_id</th>\n",
       "      <th>dx</th>\n",
       "      <th>dx_type</th>\n",
       "      <th>age</th>\n",
       "      <th>sex</th>\n",
       "      <th>localization</th>\n",
       "      <th>dataset</th>\n",
       "      <th>cell_type</th>\n",
       "      <th>cell_type_idx</th>\n",
       "      <th>Feature_1</th>\n",
       "      <th>Feature_2</th>\n",
       "      <th>path</th>\n",
       "      <th>image</th>\n",
       "    </tr>\n",
       "  </thead>\n",
       "  <tbody>\n",
       "    <tr>\n",
       "      <th>0</th>\n",
       "      <td>0</td>\n",
       "      <td>0</td>\n",
       "      <td>HAM_0006617</td>\n",
       "      <td>ISIC_0024669_HVA</td>\n",
       "      <td>vasc</td>\n",
       "      <td>histo</td>\n",
       "      <td>25.0</td>\n",
       "      <td>female</td>\n",
       "      <td>abdomen</td>\n",
       "      <td>vidir_modern</td>\n",
       "      <td>Vascular lesions</td>\n",
       "      <td>6</td>\n",
       "      <td>50</td>\n",
       "      <td>50.0</td>\n",
       "      <td>..\\Data\\HAM10000_images_part_3\\ISIC_0024669_HV...</td>\n",
       "      <td>[[[128, 105, 89], [134, 111, 95], [139, 116, 1...</td>\n",
       "    </tr>\n",
       "    <tr>\n",
       "      <th>1</th>\n",
       "      <td>1</td>\n",
       "      <td>1</td>\n",
       "      <td>HAM_0005938</td>\n",
       "      <td>ISIC_0025596_HVA</td>\n",
       "      <td>vasc</td>\n",
       "      <td>consensus</td>\n",
       "      <td>45.0</td>\n",
       "      <td>female</td>\n",
       "      <td>abdomen</td>\n",
       "      <td>vidir_molemax</td>\n",
       "      <td>Vascular lesions</td>\n",
       "      <td>6</td>\n",
       "      <td>50</td>\n",
       "      <td>50.0</td>\n",
       "      <td>..\\Data\\HAM10000_images_part_3\\ISIC_0025596_HV...</td>\n",
       "      <td>[[[196, 148, 162], [198, 150, 164], [199, 151,...</td>\n",
       "    </tr>\n",
       "    <tr>\n",
       "      <th>2</th>\n",
       "      <td>2</td>\n",
       "      <td>2</td>\n",
       "      <td>HAM_0006852</td>\n",
       "      <td>ISIC_0032715_HVA</td>\n",
       "      <td>vasc</td>\n",
       "      <td>consensus</td>\n",
       "      <td>45.0</td>\n",
       "      <td>female</td>\n",
       "      <td>abdomen</td>\n",
       "      <td>vidir_modern</td>\n",
       "      <td>Vascular lesions</td>\n",
       "      <td>6</td>\n",
       "      <td>50</td>\n",
       "      <td>50.0</td>\n",
       "      <td>..\\Data\\HAM10000_images_part_3\\ISIC_0032715_HV...</td>\n",
       "      <td>[[[181, 149, 162], [179, 147, 160], [179, 145,...</td>\n",
       "    </tr>\n",
       "    <tr>\n",
       "      <th>3</th>\n",
       "      <td>3</td>\n",
       "      <td>3</td>\n",
       "      <td>HAM_0002610</td>\n",
       "      <td>ISIC_0026876_HVA</td>\n",
       "      <td>vasc</td>\n",
       "      <td>consensus</td>\n",
       "      <td>50.0</td>\n",
       "      <td>female</td>\n",
       "      <td>abdomen</td>\n",
       "      <td>vidir_modern</td>\n",
       "      <td>Vascular lesions</td>\n",
       "      <td>6</td>\n",
       "      <td>50</td>\n",
       "      <td>50.0</td>\n",
       "      <td>..\\Data\\HAM10000_images_part_3\\ISIC_0026876_HV...</td>\n",
       "      <td>[[[199, 170, 175], [200, 171, 176], [201, 172,...</td>\n",
       "    </tr>\n",
       "    <tr>\n",
       "      <th>4</th>\n",
       "      <td>4</td>\n",
       "      <td>4</td>\n",
       "      <td>HAM_0002610</td>\n",
       "      <td>ISIC_0030606_HVA</td>\n",
       "      <td>vasc</td>\n",
       "      <td>consensus</td>\n",
       "      <td>50.0</td>\n",
       "      <td>female</td>\n",
       "      <td>abdomen</td>\n",
       "      <td>vidir_modern</td>\n",
       "      <td>Vascular lesions</td>\n",
       "      <td>6</td>\n",
       "      <td>50</td>\n",
       "      <td>50.0</td>\n",
       "      <td>..\\Data\\HAM10000_images_part_3\\ISIC_0030606_HV...</td>\n",
       "      <td>[[[90, 68, 71], [96, 74, 77], [103, 81, 84], [...</td>\n",
       "    </tr>\n",
       "    <tr>\n",
       "      <th>...</th>\n",
       "      <td>...</td>\n",
       "      <td>...</td>\n",
       "      <td>...</td>\n",
       "      <td>...</td>\n",
       "      <td>...</td>\n",
       "      <td>...</td>\n",
       "      <td>...</td>\n",
       "      <td>...</td>\n",
       "      <td>...</td>\n",
       "      <td>...</td>\n",
       "      <td>...</td>\n",
       "      <td>...</td>\n",
       "      <td>...</td>\n",
       "      <td>...</td>\n",
       "      <td>...</td>\n",
       "      <td>...</td>\n",
       "    </tr>\n",
       "    <tr>\n",
       "      <th>1395</th>\n",
       "      <td>1395</td>\n",
       "      <td>1891</td>\n",
       "      <td>HAM_0004109</td>\n",
       "      <td>ISIC_0033037</td>\n",
       "      <td>mel</td>\n",
       "      <td>histo</td>\n",
       "      <td>70.0</td>\n",
       "      <td>male</td>\n",
       "      <td>back</td>\n",
       "      <td>vidir_modern</td>\n",
       "      <td>Melanoma</td>\n",
       "      <td>5</td>\n",
       "      <td>150</td>\n",
       "      <td>25.0</td>\n",
       "      <td>..\\Data\\HAM10000_images_part_2\\ISIC_0033037.jpg</td>\n",
       "      <td>[[[142, 125, 127], [145, 125, 131], [148, 126,...</td>\n",
       "    </tr>\n",
       "    <tr>\n",
       "      <th>1396</th>\n",
       "      <td>1396</td>\n",
       "      <td>9799</td>\n",
       "      <td>HAM_0000456</td>\n",
       "      <td>ISIC_0026466</td>\n",
       "      <td>akiec</td>\n",
       "      <td>histo</td>\n",
       "      <td>65.0</td>\n",
       "      <td>female</td>\n",
       "      <td>upper extremity</td>\n",
       "      <td>rosendahl</td>\n",
       "      <td>Actinic keratoses</td>\n",
       "      <td>0</td>\n",
       "      <td>252</td>\n",
       "      <td>50.0</td>\n",
       "      <td>..\\Data\\HAM10000_images_part_1\\ISIC_0026466.jpg</td>\n",
       "      <td>[[[164, 101, 105], [161, 101, 107], [162, 102,...</td>\n",
       "    </tr>\n",
       "    <tr>\n",
       "      <th>1397</th>\n",
       "      <td>1397</td>\n",
       "      <td>9185</td>\n",
       "      <td>HAM_0005008</td>\n",
       "      <td>ISIC_0026580</td>\n",
       "      <td>nv</td>\n",
       "      <td>histo</td>\n",
       "      <td>60.0</td>\n",
       "      <td>male</td>\n",
       "      <td>lower extremity</td>\n",
       "      <td>rosendahl</td>\n",
       "      <td>Melanocytic nevi</td>\n",
       "      <td>4</td>\n",
       "      <td>251</td>\n",
       "      <td>25.0</td>\n",
       "      <td>..\\Data\\HAM10000_images_part_1\\ISIC_0026580.jpg</td>\n",
       "      <td>[[[175, 150, 151], [175, 149, 148], [173, 146,...</td>\n",
       "    </tr>\n",
       "    <tr>\n",
       "      <th>1398</th>\n",
       "      <td>1398</td>\n",
       "      <td>1988</td>\n",
       "      <td>HAM_0002430</td>\n",
       "      <td>ISIC_0027673</td>\n",
       "      <td>mel</td>\n",
       "      <td>histo</td>\n",
       "      <td>70.0</td>\n",
       "      <td>female</td>\n",
       "      <td>upper extremity</td>\n",
       "      <td>vienna_dias</td>\n",
       "      <td>Melanoma</td>\n",
       "      <td>5</td>\n",
       "      <td>252</td>\n",
       "      <td>50.0</td>\n",
       "      <td>..\\Data\\HAM10000_images_part_1\\ISIC_0027673.jpg</td>\n",
       "      <td>[[[224, 180, 205], [222, 181, 200], [219, 177,...</td>\n",
       "    </tr>\n",
       "    <tr>\n",
       "      <th>1399</th>\n",
       "      <td>1399</td>\n",
       "      <td>913</td>\n",
       "      <td>HAM_0003787</td>\n",
       "      <td>ISIC_0030630</td>\n",
       "      <td>bkl</td>\n",
       "      <td>consensus</td>\n",
       "      <td>70.0</td>\n",
       "      <td>male</td>\n",
       "      <td>chest</td>\n",
       "      <td>vidir_modern</td>\n",
       "      <td>Benign keratosis-like lesions</td>\n",
       "      <td>2</td>\n",
       "      <td>200</td>\n",
       "      <td>25.0</td>\n",
       "      <td>..\\Data\\HAM10000_images_part_2\\ISIC_0030630.jpg</td>\n",
       "      <td>[[[219, 174, 183], [218, 175, 184], [219, 176,...</td>\n",
       "    </tr>\n",
       "  </tbody>\n",
       "</table>\n",
       "<p>1400 rows × 16 columns</p>\n",
       "</div>"
      ],
      "text/plain": [
       "      level_0  index    lesion_id          image_id     dx    dx_type   age  \\\n",
       "0           0      0  HAM_0006617  ISIC_0024669_HVA   vasc      histo  25.0   \n",
       "1           1      1  HAM_0005938  ISIC_0025596_HVA   vasc  consensus  45.0   \n",
       "2           2      2  HAM_0006852  ISIC_0032715_HVA   vasc  consensus  45.0   \n",
       "3           3      3  HAM_0002610  ISIC_0026876_HVA   vasc  consensus  50.0   \n",
       "4           4      4  HAM_0002610  ISIC_0030606_HVA   vasc  consensus  50.0   \n",
       "...       ...    ...          ...               ...    ...        ...   ...   \n",
       "1395     1395   1891  HAM_0004109      ISIC_0033037    mel      histo  70.0   \n",
       "1396     1396   9799  HAM_0000456      ISIC_0026466  akiec      histo  65.0   \n",
       "1397     1397   9185  HAM_0005008      ISIC_0026580     nv      histo  60.0   \n",
       "1398     1398   1988  HAM_0002430      ISIC_0027673    mel      histo  70.0   \n",
       "1399     1399    913  HAM_0003787      ISIC_0030630    bkl  consensus  70.0   \n",
       "\n",
       "         sex     localization        dataset                       cell_type  \\\n",
       "0     female          abdomen   vidir_modern                Vascular lesions   \n",
       "1     female          abdomen  vidir_molemax                Vascular lesions   \n",
       "2     female          abdomen   vidir_modern                Vascular lesions   \n",
       "3     female          abdomen   vidir_modern                Vascular lesions   \n",
       "4     female          abdomen   vidir_modern                Vascular lesions   \n",
       "...      ...              ...            ...                             ...   \n",
       "1395    male             back   vidir_modern                        Melanoma   \n",
       "1396  female  upper extremity      rosendahl               Actinic keratoses   \n",
       "1397    male  lower extremity      rosendahl                Melanocytic nevi   \n",
       "1398  female  upper extremity    vienna_dias                        Melanoma   \n",
       "1399    male            chest   vidir_modern  Benign keratosis-like lesions    \n",
       "\n",
       "     cell_type_idx Feature_1 Feature_2  \\\n",
       "0                6        50      50.0   \n",
       "1                6        50      50.0   \n",
       "2                6        50      50.0   \n",
       "3                6        50      50.0   \n",
       "4                6        50      50.0   \n",
       "...            ...       ...       ...   \n",
       "1395             5       150      25.0   \n",
       "1396             0       252      50.0   \n",
       "1397             4       251      25.0   \n",
       "1398             5       252      50.0   \n",
       "1399             2       200      25.0   \n",
       "\n",
       "                                                   path  \\\n",
       "0     ..\\Data\\HAM10000_images_part_3\\ISIC_0024669_HV...   \n",
       "1     ..\\Data\\HAM10000_images_part_3\\ISIC_0025596_HV...   \n",
       "2     ..\\Data\\HAM10000_images_part_3\\ISIC_0032715_HV...   \n",
       "3     ..\\Data\\HAM10000_images_part_3\\ISIC_0026876_HV...   \n",
       "4     ..\\Data\\HAM10000_images_part_3\\ISIC_0030606_HV...   \n",
       "...                                                 ...   \n",
       "1395    ..\\Data\\HAM10000_images_part_2\\ISIC_0033037.jpg   \n",
       "1396    ..\\Data\\HAM10000_images_part_1\\ISIC_0026466.jpg   \n",
       "1397    ..\\Data\\HAM10000_images_part_1\\ISIC_0026580.jpg   \n",
       "1398    ..\\Data\\HAM10000_images_part_1\\ISIC_0027673.jpg   \n",
       "1399    ..\\Data\\HAM10000_images_part_2\\ISIC_0030630.jpg   \n",
       "\n",
       "                                                  image  \n",
       "0     [[[128, 105, 89], [134, 111, 95], [139, 116, 1...  \n",
       "1     [[[196, 148, 162], [198, 150, 164], [199, 151,...  \n",
       "2     [[[181, 149, 162], [179, 147, 160], [179, 145,...  \n",
       "3     [[[199, 170, 175], [200, 171, 176], [201, 172,...  \n",
       "4     [[[90, 68, 71], [96, 74, 77], [103, 81, 84], [...  \n",
       "...                                                 ...  \n",
       "1395  [[[142, 125, 127], [145, 125, 131], [148, 126,...  \n",
       "1396  [[[164, 101, 105], [161, 101, 107], [162, 102,...  \n",
       "1397  [[[175, 150, 151], [175, 149, 148], [173, 146,...  \n",
       "1398  [[[224, 180, 205], [222, 181, 200], [219, 177,...  \n",
       "1399  [[[219, 174, 183], [218, 175, 184], [219, 176,...  \n",
       "\n",
       "[1400 rows x 16 columns]"
      ]
     },
     "execution_count": 69,
     "metadata": {},
     "output_type": "execute_result"
    }
   ],
   "source": [
    "new_dataset.drop(['New_Image'],axis=1)"
   ]
  },
  {
   "cell_type": "code",
   "execution_count": 116,
   "metadata": {},
   "outputs": [
    {
     "data": {
      "text/plain": [
       "Index(['lesion_id', 'image_id', 'dx', 'dx_type', 'age', 'sex', 'localization',\n",
       "       'dataset', 'cell_type', 'cell_type_idx', 'Feature_1', 'Feature_2',\n",
       "       'path', 'image'],\n",
       "      dtype='object')"
      ]
     },
     "execution_count": 116,
     "metadata": {},
     "output_type": "execute_result"
    }
   ],
   "source": [
    "\n",
    "new_dataset.columns"
   ]
  },
  {
   "cell_type": "code",
   "execution_count": 251,
   "metadata": {},
   "outputs": [],
   "source": [
    "\n",
    "def add_reduced_image():\n",
    "    res = pd.DataFrame()\n",
    "    # Create new columns for copied images and labels\n",
    "    res['label'] = [None] * len(new_dataset)\n",
    "    res['new_image'] = [None] * len(new_dataset)\n",
    "    for x in range(len(new_dataset)):\n",
    "        #print(new_dataset.loc[x,'image'].shape)\n",
    "        \n",
    "        res.loc[x,'label'] = new_dataset.loc[x,'cell_type_idx']\n",
    "        f_image = generate_text_image(new_dataset.loc[x,'image'],new_dataset.loc[x,'age'], new_dataset.loc[x,'Feature_1'], new_dataset.loc[x,'Feature_2'])\n",
    "        \n",
    "        a = pca_image(add_text_feature(new_dataset.loc[x,'image'],f_image), 150)\n",
    "        \n",
    "        res.at[x,'new_image'] = a\n",
    "        \n",
    "    return res\n",
    "        \n",
    "new_dataframe = add_reduced_image()"
   ]
  },
  {
   "cell_type": "code",
   "execution_count": 236,
   "metadata": {},
   "outputs": [
    {
     "data": {
      "text/plain": [
       "(133, 16)"
      ]
     },
     "execution_count": 236,
     "metadata": {},
     "output_type": "execute_result"
    }
   ],
   "source": [
    "new_dataset.dropna(inplace=True)\n",
    "new_dataset.shape"
   ]
  },
  {
   "cell_type": "code",
   "execution_count": null,
   "metadata": {},
   "outputs": [],
   "source": [
    "def add_reduced_original_image():\n",
    "    res = pd.DataFrame()\n",
    "    # Create new columns for copied images and labels\n",
    "    res['label'] = [None] * len(new_dataset)\n",
    "    res['new_image'] = [None] * len(new_dataset)\n",
    "    for x in range(len(new_dataset)):\n",
    "        #print(new_dataset.loc[x,'image'].shape)\n",
    "        \n",
    "        res.loc[x,'label'] = new_dataset.loc[x,'cell_type_idx']\n",
    "        f_image = generate_text_image(new_dataset.loc[x,'image'],new_dataset.loc[x,'age'], new_dataset.loc[x,'Feature_1'], new_dataset.loc[x,'Feature_2'])\n",
    "        \n",
    "        a = pca_image(add_text_feature(new_dataset.loc[x,'image'],f_image), 150)\n",
    "        \n",
    "        res.at[x,'new_image'] = a\n",
    "        \n",
    "    return res\n",
    "        \n",
    "new_dataframe = add_reduced_original_image()"
   ]
  },
  {
   "cell_type": "code",
   "execution_count": 252,
   "metadata": {},
   "outputs": [
    {
     "data": {
      "text/plain": [
       "label                                                        6\n",
       "new_image    [[[25, 183, 2], [192, 170, 109], [208, 212, 44...\n",
       "Name: 1, dtype: object"
      ]
     },
     "execution_count": 252,
     "metadata": {},
     "output_type": "execute_result"
    }
   ],
   "source": [
    "new_dataframe.iloc[1]"
   ]
  },
  {
   "cell_type": "markdown",
   "metadata": {},
   "source": [
    "#### Training the Model"
   ]
  },
  {
   "cell_type": "code",
   "execution_count": 125,
   "metadata": {},
   "outputs": [
    {
     "name": "stdout",
     "output_type": "stream",
     "text": [
      "WARNING:tensorflow:From c:\\Users\\Dell\\AppData\\Local\\Programs\\Python\\Python39\\lib\\site-packages\\keras\\src\\losses.py:2976: The name tf.losses.sparse_softmax_cross_entropy is deprecated. Please use tf.compat.v1.losses.sparse_softmax_cross_entropy instead.\n",
      "\n"
     ]
    }
   ],
   "source": [
    "%matplotlib inline\n",
    "import matplotlib.pyplot as plt\n",
    "import numpy as np\n",
    "import pandas as pd\n",
    "import os\n",
    "from glob import glob\n",
    "import seaborn as sns\n",
    "from PIL import Image\n",
    "np.random.seed(123)\n",
    "from sklearn.preprocessing import label_binarize\n",
    "from sklearn.metrics import confusion_matrix\n",
    "import itertools\n",
    "\n",
    "from tensorflow.keras.utils import to_categorical\n",
    "from keras.models import Sequential\n",
    "from keras.layers import Dense, Dropout, Flatten, Conv2D, MaxPool2D\n",
    "from keras import backend as K\n",
    "import itertools\n",
    "from tensorflow.keras.layers import BatchNormalization\n",
    "from tensorflow.keras.utils import to_categorical\n",
    "\n",
    "from keras.optimizers import Adam\n",
    "from keras.preprocessing.image import ImageDataGenerator\n",
    "from keras.callbacks import ReduceLROnPlateau\n",
    "from sklearn.model_selection import train_test_split"
   ]
  },
  {
   "cell_type": "code",
   "execution_count": 257,
   "metadata": {},
   "outputs": [],
   "source": [
    "features=new_dataframe['new_image']\n",
    "target=new_dataframe['label']"
   ]
  },
  {
   "cell_type": "code",
   "execution_count": 258,
   "metadata": {},
   "outputs": [
    {
     "name": "stdout",
     "output_type": "stream",
     "text": [
      "256 150\n"
     ]
    }
   ],
   "source": [
    "l,b,h = new_dataframe.new_image.iloc[1].shape\n",
    "input_shape = (l,b)\n",
    "print(l,b)"
   ]
  },
  {
   "cell_type": "code",
   "execution_count": 259,
   "metadata": {},
   "outputs": [],
   "source": [
    "x_train_o, x_test_o, y_train_o, y_test_o = train_test_split(features, target, test_size=0.20,random_state=1234)"
   ]
  },
  {
   "cell_type": "code",
   "execution_count": 260,
   "metadata": {},
   "outputs": [],
   "source": [
    "x_train = np.asarray(x_train_o.tolist())\n",
    "x_test = np.asarray(x_test_o.tolist())\n",
    "\n",
    "x_train_mean = np.mean(x_train)\n",
    "x_train_std = np.std(x_train)\n",
    "\n",
    "x_test_mean = np.mean(x_test)\n",
    "x_test_std = np.std(x_test)\n",
    "\n",
    "x_train = (x_train - x_train_mean)/x_train_std\n",
    "x_test = (x_test - x_test_mean)/x_test_std"
   ]
  },
  {
   "cell_type": "code",
   "execution_count": 261,
   "metadata": {},
   "outputs": [],
   "source": [
    "# Perform one-hot encoding on the labels\n",
    "y_train = to_categorical(y_train_o, num_classes = 7)\n",
    "y_test = to_categorical(y_test_o, num_classes = 7)"
   ]
  },
  {
   "cell_type": "code",
   "execution_count": 262,
   "metadata": {},
   "outputs": [],
   "source": [
    "x_train, x_validate, y_train, y_validate = train_test_split(x_train, y_train, test_size = 0.2, random_state = 2)"
   ]
  },
  {
   "cell_type": "code",
   "execution_count": 263,
   "metadata": {},
   "outputs": [],
   "source": [
    "# Reshape image in 3 dimensions (height = 75px, width = 100px , canal = 3)\n",
    "x_train = x_train.reshape(x_train.shape[0], *(256, 150, 3))\n",
    "x_test = x_test.reshape(x_test.shape[0], *(256, 150, 3))\n",
    "x_validate = x_validate.reshape(x_validate.shape[0], *(256, 150, 3))"
   ]
  },
  {
   "cell_type": "code",
   "execution_count": 264,
   "metadata": {},
   "outputs": [
    {
     "name": "stdout",
     "output_type": "stream",
     "text": [
      "Model: \"sequential_2\"\n",
      "_________________________________________________________________\n",
      " Layer (type)                Output Shape              Param #   \n",
      "=================================================================\n",
      " conv2d_8 (Conv2D)           (None, 256, 150, 32)      896       \n",
      "                                                                 \n",
      " conv2d_9 (Conv2D)           (None, 256, 150, 32)      9248      \n",
      "                                                                 \n",
      " max_pooling2d_4 (MaxPoolin  (None, 128, 75, 32)       0         \n",
      " g2D)                                                            \n",
      "                                                                 \n",
      " dropout_6 (Dropout)         (None, 128, 75, 32)       0         \n",
      "                                                                 \n",
      " conv2d_10 (Conv2D)          (None, 128, 75, 64)       18496     \n",
      "                                                                 \n",
      " conv2d_11 (Conv2D)          (None, 128, 75, 64)       36928     \n",
      "                                                                 \n",
      " max_pooling2d_5 (MaxPoolin  (None, 64, 37, 64)        0         \n",
      " g2D)                                                            \n",
      "                                                                 \n",
      " dropout_7 (Dropout)         (None, 64, 37, 64)        0         \n",
      "                                                                 \n",
      " flatten_2 (Flatten)         (None, 151552)            0         \n",
      "                                                                 \n",
      " dense_4 (Dense)             (None, 128)               19398784  \n",
      "                                                                 \n",
      " dropout_8 (Dropout)         (None, 128)               0         \n",
      "                                                                 \n",
      " dense_5 (Dense)             (None, 7)                 903       \n",
      "                                                                 \n",
      "=================================================================\n",
      "Total params: 19465255 (74.25 MB)\n",
      "Trainable params: 19465255 (74.25 MB)\n",
      "Non-trainable params: 0 (0.00 Byte)\n",
      "_________________________________________________________________\n"
     ]
    }
   ],
   "source": [
    "# Set the CNN model \n",
    "# my CNN architechture is In -> [[Conv2D->relu]*2 -> MaxPool2D -> Dropout]*2 -> Flatten -> Dense -> Dropout -> Out\n",
    "input_shape = (256, 150, 3)\n",
    "num_classes = 7\n",
    "\n",
    "model = Sequential()\n",
    "model.add(Conv2D(32, kernel_size=(3, 3),activation='relu',padding = 'Same',input_shape=input_shape))\n",
    "model.add(Conv2D(32,kernel_size=(3, 3), activation='relu',padding = 'Same',))\n",
    "model.add(MaxPool2D(pool_size = (2, 2)))\n",
    "model.add(Dropout(0.25))\n",
    "\n",
    "model.add(Conv2D(64, (3, 3), activation='relu',padding = 'Same'))\n",
    "model.add(Conv2D(64, (3, 3), activation='relu',padding = 'Same'))\n",
    "model.add(MaxPool2D(pool_size=(2, 2)))\n",
    "model.add(Dropout(0.40))\n",
    "\n",
    "model.add(Flatten())\n",
    "model.add(Dense(128, activation='relu'))\n",
    "model.add(Dropout(0.5))\n",
    "model.add(Dense(num_classes, activation='softmax'))\n",
    "model.summary()"
   ]
  },
  {
   "cell_type": "code",
   "execution_count": 265,
   "metadata": {},
   "outputs": [],
   "source": [
    "# Define the optimizer\n",
    "optimizer = Adam(learning_rate=0.005, beta_1=0.9, beta_2=0.999, amsgrad=False)\n",
    "model.compile(optimizer = optimizer , loss = \"categorical_crossentropy\", metrics=[\"accuracy\"])\n",
    "# Set a learning rate annealer\n",
    "learning_rate_reduction = ReduceLROnPlateau(monitor='val_accuracy', \n",
    "                                            patience=3, \n",
    "                                            verbose=1, \n",
    "                                            factor=0.5, \n",
    "                                            min_lr=0.00001)"
   ]
  },
  {
   "cell_type": "code",
   "execution_count": 266,
   "metadata": {},
   "outputs": [],
   "source": [
    "# With data augmentation to prevent overfitting \n",
    "\n",
    "datagen = ImageDataGenerator(\n",
    "        featurewise_center=False,  # set input mean to 0 over the dataset\n",
    "        samplewise_center=False,  # set each sample mean to 0\n",
    "        featurewise_std_normalization=False,  # divide inputs by std of the dataset\n",
    "        samplewise_std_normalization=False,  # divide each input by its std\n",
    "        zca_whitening=False,  # apply ZCA whitening\n",
    "        rotation_range=10,  # randomly rotate images in the range (degrees, 0 to 180)\n",
    "        zoom_range = 0.1, # Randomly zoom image \n",
    "        width_shift_range=0.1,  # randomly shift images horizontally (fraction of total width)\n",
    "        height_shift_range=0.1,  # randomly shift images vertically (fraction of total height)\n",
    "        horizontal_flip=True,  # randomly flip images\n",
    "        vertical_flip=True)  # randomly flip images\n",
    "\n",
    "datagen.fit(x_train)"
   ]
  },
  {
   "cell_type": "code",
   "execution_count": 267,
   "metadata": {},
   "outputs": [
    {
     "name": "stdout",
     "output_type": "stream",
     "text": [
      "Epoch 1/50\n",
      "49/49 [==============================] - 64s 1s/step - loss: 6.6731 - accuracy: 0.1683 - val_loss: 1.9262 - val_accuracy: 0.1749 - lr: 0.0050\n",
      "Epoch 2/50\n",
      "49/49 [==============================] - 61s 1s/step - loss: 1.9267 - accuracy: 0.1832 - val_loss: 1.9096 - val_accuracy: 0.1749 - lr: 0.0050\n",
      "Epoch 3/50\n",
      "49/49 [==============================] - 61s 1s/step - loss: 1.9219 - accuracy: 0.1683 - val_loss: 1.9051 - val_accuracy: 0.1749 - lr: 0.0050\n",
      "Epoch 4/50\n",
      "11/49 [=====>........................] - ETA: 46s - loss: 1.9161 - accuracy: 0.1782"
     ]
    },
    {
     "ename": "KeyboardInterrupt",
     "evalue": "",
     "output_type": "error",
     "traceback": [
      "\u001b[1;31m---------------------------------------------------------------------------\u001b[0m",
      "\u001b[1;31mKeyboardInterrupt\u001b[0m                         Traceback (most recent call last)",
      "Input \u001b[1;32mIn [267]\u001b[0m, in \u001b[0;36m<cell line: 4>\u001b[1;34m()\u001b[0m\n\u001b[0;32m      2\u001b[0m epochs \u001b[38;5;241m=\u001b[39m \u001b[38;5;241m50\u001b[39m \n\u001b[0;32m      3\u001b[0m batch_size \u001b[38;5;241m=\u001b[39m \u001b[38;5;241m25\u001b[39m\n\u001b[1;32m----> 4\u001b[0m history \u001b[38;5;241m=\u001b[39m \u001b[43mmodel\u001b[49m\u001b[38;5;241;43m.\u001b[39;49m\u001b[43mfit\u001b[49m\u001b[43m(\u001b[49m\u001b[43mdatagen\u001b[49m\u001b[38;5;241;43m.\u001b[39;49m\u001b[43mflow\u001b[49m\u001b[43m(\u001b[49m\u001b[43mx_train\u001b[49m\u001b[43m,\u001b[49m\u001b[43my_train\u001b[49m\u001b[43m,\u001b[49m\u001b[43m \u001b[49m\u001b[43mbatch_size\u001b[49m\u001b[38;5;241;43m=\u001b[39;49m\u001b[43mbatch_size\u001b[49m\u001b[43m)\u001b[49m\u001b[43m,\u001b[49m\n\u001b[0;32m      5\u001b[0m \u001b[43m                              \u001b[49m\u001b[43mepochs\u001b[49m\u001b[43m \u001b[49m\u001b[38;5;241;43m=\u001b[39;49m\u001b[43m \u001b[49m\u001b[43mepochs\u001b[49m\u001b[43m,\u001b[49m\u001b[43m \u001b[49m\u001b[43mvalidation_data\u001b[49m\u001b[43m \u001b[49m\u001b[38;5;241;43m=\u001b[39;49m\u001b[43m \u001b[49m\u001b[43m(\u001b[49m\u001b[43mx_validate\u001b[49m\u001b[43m,\u001b[49m\u001b[43my_validate\u001b[49m\u001b[43m)\u001b[49m\u001b[43m,\u001b[49m\n\u001b[0;32m      6\u001b[0m \u001b[43m                              \u001b[49m\u001b[43mverbose\u001b[49m\u001b[43m \u001b[49m\u001b[38;5;241;43m=\u001b[39;49m\u001b[43m \u001b[49m\u001b[38;5;241;43m1\u001b[39;49m\n\u001b[0;32m      7\u001b[0m \u001b[43m                              \u001b[49m\u001b[43m,\u001b[49m\u001b[43m \u001b[49m\u001b[43mcallbacks\u001b[49m\u001b[38;5;241;43m=\u001b[39;49m\u001b[43m[\u001b[49m\u001b[43mlearning_rate_reduction\u001b[49m\u001b[43m]\u001b[49m\u001b[43m)\u001b[49m\n",
      "File \u001b[1;32mc:\\Users\\Dell\\AppData\\Local\\Programs\\Python\\Python39\\lib\\site-packages\\keras\\src\\utils\\traceback_utils.py:65\u001b[0m, in \u001b[0;36mfilter_traceback.<locals>.error_handler\u001b[1;34m(*args, **kwargs)\u001b[0m\n\u001b[0;32m     63\u001b[0m filtered_tb \u001b[38;5;241m=\u001b[39m \u001b[38;5;28;01mNone\u001b[39;00m\n\u001b[0;32m     64\u001b[0m \u001b[38;5;28;01mtry\u001b[39;00m:\n\u001b[1;32m---> 65\u001b[0m     \u001b[38;5;28;01mreturn\u001b[39;00m fn(\u001b[38;5;241m*\u001b[39margs, \u001b[38;5;241m*\u001b[39m\u001b[38;5;241m*\u001b[39mkwargs)\n\u001b[0;32m     66\u001b[0m \u001b[38;5;28;01mexcept\u001b[39;00m \u001b[38;5;167;01mException\u001b[39;00m \u001b[38;5;28;01mas\u001b[39;00m e:\n\u001b[0;32m     67\u001b[0m     filtered_tb \u001b[38;5;241m=\u001b[39m _process_traceback_frames(e\u001b[38;5;241m.\u001b[39m__traceback__)\n",
      "File \u001b[1;32mc:\\Users\\Dell\\AppData\\Local\\Programs\\Python\\Python39\\lib\\site-packages\\keras\\src\\engine\\training.py:1807\u001b[0m, in \u001b[0;36mModel.fit\u001b[1;34m(self, x, y, batch_size, epochs, verbose, callbacks, validation_split, validation_data, shuffle, class_weight, sample_weight, initial_epoch, steps_per_epoch, validation_steps, validation_batch_size, validation_freq, max_queue_size, workers, use_multiprocessing)\u001b[0m\n\u001b[0;32m   1799\u001b[0m \u001b[38;5;28;01mwith\u001b[39;00m tf\u001b[38;5;241m.\u001b[39mprofiler\u001b[38;5;241m.\u001b[39mexperimental\u001b[38;5;241m.\u001b[39mTrace(\n\u001b[0;32m   1800\u001b[0m     \u001b[38;5;124m\"\u001b[39m\u001b[38;5;124mtrain\u001b[39m\u001b[38;5;124m\"\u001b[39m,\n\u001b[0;32m   1801\u001b[0m     epoch_num\u001b[38;5;241m=\u001b[39mepoch,\n\u001b[1;32m   (...)\u001b[0m\n\u001b[0;32m   1804\u001b[0m     _r\u001b[38;5;241m=\u001b[39m\u001b[38;5;241m1\u001b[39m,\n\u001b[0;32m   1805\u001b[0m ):\n\u001b[0;32m   1806\u001b[0m     callbacks\u001b[38;5;241m.\u001b[39mon_train_batch_begin(step)\n\u001b[1;32m-> 1807\u001b[0m     tmp_logs \u001b[38;5;241m=\u001b[39m \u001b[38;5;28;43mself\u001b[39;49m\u001b[38;5;241;43m.\u001b[39;49m\u001b[43mtrain_function\u001b[49m\u001b[43m(\u001b[49m\u001b[43miterator\u001b[49m\u001b[43m)\u001b[49m\n\u001b[0;32m   1808\u001b[0m     \u001b[38;5;28;01mif\u001b[39;00m data_handler\u001b[38;5;241m.\u001b[39mshould_sync:\n\u001b[0;32m   1809\u001b[0m         context\u001b[38;5;241m.\u001b[39masync_wait()\n",
      "File \u001b[1;32mc:\\Users\\Dell\\AppData\\Local\\Programs\\Python\\Python39\\lib\\site-packages\\tensorflow\\python\\util\\traceback_utils.py:150\u001b[0m, in \u001b[0;36mfilter_traceback.<locals>.error_handler\u001b[1;34m(*args, **kwargs)\u001b[0m\n\u001b[0;32m    148\u001b[0m filtered_tb \u001b[38;5;241m=\u001b[39m \u001b[38;5;28;01mNone\u001b[39;00m\n\u001b[0;32m    149\u001b[0m \u001b[38;5;28;01mtry\u001b[39;00m:\n\u001b[1;32m--> 150\u001b[0m   \u001b[38;5;28;01mreturn\u001b[39;00m fn(\u001b[38;5;241m*\u001b[39margs, \u001b[38;5;241m*\u001b[39m\u001b[38;5;241m*\u001b[39mkwargs)\n\u001b[0;32m    151\u001b[0m \u001b[38;5;28;01mexcept\u001b[39;00m \u001b[38;5;167;01mException\u001b[39;00m \u001b[38;5;28;01mas\u001b[39;00m e:\n\u001b[0;32m    152\u001b[0m   filtered_tb \u001b[38;5;241m=\u001b[39m _process_traceback_frames(e\u001b[38;5;241m.\u001b[39m__traceback__)\n",
      "File \u001b[1;32mc:\\Users\\Dell\\AppData\\Local\\Programs\\Python\\Python39\\lib\\site-packages\\tensorflow\\python\\eager\\polymorphic_function\\polymorphic_function.py:832\u001b[0m, in \u001b[0;36mFunction.__call__\u001b[1;34m(self, *args, **kwds)\u001b[0m\n\u001b[0;32m    829\u001b[0m compiler \u001b[38;5;241m=\u001b[39m \u001b[38;5;124m\"\u001b[39m\u001b[38;5;124mxla\u001b[39m\u001b[38;5;124m\"\u001b[39m \u001b[38;5;28;01mif\u001b[39;00m \u001b[38;5;28mself\u001b[39m\u001b[38;5;241m.\u001b[39m_jit_compile \u001b[38;5;28;01melse\u001b[39;00m \u001b[38;5;124m\"\u001b[39m\u001b[38;5;124mnonXla\u001b[39m\u001b[38;5;124m\"\u001b[39m\n\u001b[0;32m    831\u001b[0m \u001b[38;5;28;01mwith\u001b[39;00m OptionalXlaContext(\u001b[38;5;28mself\u001b[39m\u001b[38;5;241m.\u001b[39m_jit_compile):\n\u001b[1;32m--> 832\u001b[0m   result \u001b[38;5;241m=\u001b[39m \u001b[38;5;28mself\u001b[39m\u001b[38;5;241m.\u001b[39m_call(\u001b[38;5;241m*\u001b[39margs, \u001b[38;5;241m*\u001b[39m\u001b[38;5;241m*\u001b[39mkwds)\n\u001b[0;32m    834\u001b[0m new_tracing_count \u001b[38;5;241m=\u001b[39m \u001b[38;5;28mself\u001b[39m\u001b[38;5;241m.\u001b[39mexperimental_get_tracing_count()\n\u001b[0;32m    835\u001b[0m without_tracing \u001b[38;5;241m=\u001b[39m (tracing_count \u001b[38;5;241m==\u001b[39m new_tracing_count)\n",
      "File \u001b[1;32mc:\\Users\\Dell\\AppData\\Local\\Programs\\Python\\Python39\\lib\\site-packages\\tensorflow\\python\\eager\\polymorphic_function\\polymorphic_function.py:868\u001b[0m, in \u001b[0;36mFunction._call\u001b[1;34m(self, *args, **kwds)\u001b[0m\n\u001b[0;32m    865\u001b[0m   \u001b[38;5;28mself\u001b[39m\u001b[38;5;241m.\u001b[39m_lock\u001b[38;5;241m.\u001b[39mrelease()\n\u001b[0;32m    866\u001b[0m   \u001b[38;5;66;03m# In this case we have created variables on the first call, so we run the\u001b[39;00m\n\u001b[0;32m    867\u001b[0m   \u001b[38;5;66;03m# defunned version which is guaranteed to never create variables.\u001b[39;00m\n\u001b[1;32m--> 868\u001b[0m   \u001b[38;5;28;01mreturn\u001b[39;00m \u001b[43mtracing_compilation\u001b[49m\u001b[38;5;241;43m.\u001b[39;49m\u001b[43mcall_function\u001b[49m\u001b[43m(\u001b[49m\n\u001b[0;32m    869\u001b[0m \u001b[43m      \u001b[49m\u001b[43margs\u001b[49m\u001b[43m,\u001b[49m\u001b[43m \u001b[49m\u001b[43mkwds\u001b[49m\u001b[43m,\u001b[49m\u001b[43m \u001b[49m\u001b[38;5;28;43mself\u001b[39;49m\u001b[38;5;241;43m.\u001b[39;49m\u001b[43m_no_variable_creation_config\u001b[49m\n\u001b[0;32m    870\u001b[0m \u001b[43m  \u001b[49m\u001b[43m)\u001b[49m\n\u001b[0;32m    871\u001b[0m \u001b[38;5;28;01melif\u001b[39;00m \u001b[38;5;28mself\u001b[39m\u001b[38;5;241m.\u001b[39m_variable_creation_config \u001b[38;5;129;01mis\u001b[39;00m \u001b[38;5;129;01mnot\u001b[39;00m \u001b[38;5;28;01mNone\u001b[39;00m:\n\u001b[0;32m    872\u001b[0m   \u001b[38;5;66;03m# Release the lock early so that multiple threads can perform the call\u001b[39;00m\n\u001b[0;32m    873\u001b[0m   \u001b[38;5;66;03m# in parallel.\u001b[39;00m\n\u001b[0;32m    874\u001b[0m   \u001b[38;5;28mself\u001b[39m\u001b[38;5;241m.\u001b[39m_lock\u001b[38;5;241m.\u001b[39mrelease()\n",
      "File \u001b[1;32mc:\\Users\\Dell\\AppData\\Local\\Programs\\Python\\Python39\\lib\\site-packages\\tensorflow\\python\\eager\\polymorphic_function\\tracing_compilation.py:139\u001b[0m, in \u001b[0;36mcall_function\u001b[1;34m(args, kwargs, tracing_options)\u001b[0m\n\u001b[0;32m    137\u001b[0m bound_args \u001b[38;5;241m=\u001b[39m function\u001b[38;5;241m.\u001b[39mfunction_type\u001b[38;5;241m.\u001b[39mbind(\u001b[38;5;241m*\u001b[39margs, \u001b[38;5;241m*\u001b[39m\u001b[38;5;241m*\u001b[39mkwargs)\n\u001b[0;32m    138\u001b[0m flat_inputs \u001b[38;5;241m=\u001b[39m function\u001b[38;5;241m.\u001b[39mfunction_type\u001b[38;5;241m.\u001b[39munpack_inputs(bound_args)\n\u001b[1;32m--> 139\u001b[0m \u001b[38;5;28;01mreturn\u001b[39;00m \u001b[43mfunction\u001b[49m\u001b[38;5;241;43m.\u001b[39;49m\u001b[43m_call_flat\u001b[49m\u001b[43m(\u001b[49m\u001b[43m  \u001b[49m\u001b[38;5;66;43;03m# pylint: disable=protected-access\u001b[39;49;00m\n\u001b[0;32m    140\u001b[0m \u001b[43m    \u001b[49m\u001b[43mflat_inputs\u001b[49m\u001b[43m,\u001b[49m\u001b[43m \u001b[49m\u001b[43mcaptured_inputs\u001b[49m\u001b[38;5;241;43m=\u001b[39;49m\u001b[43mfunction\u001b[49m\u001b[38;5;241;43m.\u001b[39;49m\u001b[43mcaptured_inputs\u001b[49m\n\u001b[0;32m    141\u001b[0m \u001b[43m\u001b[49m\u001b[43m)\u001b[49m\n",
      "File \u001b[1;32mc:\\Users\\Dell\\AppData\\Local\\Programs\\Python\\Python39\\lib\\site-packages\\tensorflow\\python\\eager\\polymorphic_function\\concrete_function.py:1323\u001b[0m, in \u001b[0;36mConcreteFunction._call_flat\u001b[1;34m(self, tensor_inputs, captured_inputs)\u001b[0m\n\u001b[0;32m   1319\u001b[0m possible_gradient_type \u001b[38;5;241m=\u001b[39m gradients_util\u001b[38;5;241m.\u001b[39mPossibleTapeGradientTypes(args)\n\u001b[0;32m   1320\u001b[0m \u001b[38;5;28;01mif\u001b[39;00m (possible_gradient_type \u001b[38;5;241m==\u001b[39m gradients_util\u001b[38;5;241m.\u001b[39mPOSSIBLE_GRADIENT_TYPES_NONE\n\u001b[0;32m   1321\u001b[0m     \u001b[38;5;129;01mand\u001b[39;00m executing_eagerly):\n\u001b[0;32m   1322\u001b[0m   \u001b[38;5;66;03m# No tape is watching; skip to running the function.\u001b[39;00m\n\u001b[1;32m-> 1323\u001b[0m   \u001b[38;5;28;01mreturn\u001b[39;00m \u001b[38;5;28;43mself\u001b[39;49m\u001b[38;5;241;43m.\u001b[39;49m\u001b[43m_inference_function\u001b[49m\u001b[38;5;241;43m.\u001b[39;49m\u001b[43mcall_preflattened\u001b[49m\u001b[43m(\u001b[49m\u001b[43margs\u001b[49m\u001b[43m)\u001b[49m\n\u001b[0;32m   1324\u001b[0m forward_backward \u001b[38;5;241m=\u001b[39m \u001b[38;5;28mself\u001b[39m\u001b[38;5;241m.\u001b[39m_select_forward_and_backward_functions(\n\u001b[0;32m   1325\u001b[0m     args,\n\u001b[0;32m   1326\u001b[0m     possible_gradient_type,\n\u001b[0;32m   1327\u001b[0m     executing_eagerly)\n\u001b[0;32m   1328\u001b[0m forward_function, args_with_tangents \u001b[38;5;241m=\u001b[39m forward_backward\u001b[38;5;241m.\u001b[39mforward()\n",
      "File \u001b[1;32mc:\\Users\\Dell\\AppData\\Local\\Programs\\Python\\Python39\\lib\\site-packages\\tensorflow\\python\\eager\\polymorphic_function\\atomic_function.py:216\u001b[0m, in \u001b[0;36mAtomicFunction.call_preflattened\u001b[1;34m(self, args)\u001b[0m\n\u001b[0;32m    214\u001b[0m \u001b[38;5;28;01mdef\u001b[39;00m \u001b[38;5;21mcall_preflattened\u001b[39m(\u001b[38;5;28mself\u001b[39m, args: Sequence[core\u001b[38;5;241m.\u001b[39mTensor]) \u001b[38;5;241m-\u001b[39m\u001b[38;5;241m>\u001b[39m Any:\n\u001b[0;32m    215\u001b[0m   \u001b[38;5;124;03m\"\"\"Calls with flattened tensor inputs and returns the structured output.\"\"\"\u001b[39;00m\n\u001b[1;32m--> 216\u001b[0m   flat_outputs \u001b[38;5;241m=\u001b[39m \u001b[38;5;28;43mself\u001b[39;49m\u001b[38;5;241;43m.\u001b[39;49m\u001b[43mcall_flat\u001b[49m\u001b[43m(\u001b[49m\u001b[38;5;241;43m*\u001b[39;49m\u001b[43margs\u001b[49m\u001b[43m)\u001b[49m\n\u001b[0;32m    217\u001b[0m   \u001b[38;5;28;01mreturn\u001b[39;00m \u001b[38;5;28mself\u001b[39m\u001b[38;5;241m.\u001b[39mfunction_type\u001b[38;5;241m.\u001b[39mpack_output(flat_outputs)\n",
      "File \u001b[1;32mc:\\Users\\Dell\\AppData\\Local\\Programs\\Python\\Python39\\lib\\site-packages\\tensorflow\\python\\eager\\polymorphic_function\\atomic_function.py:251\u001b[0m, in \u001b[0;36mAtomicFunction.call_flat\u001b[1;34m(self, *args)\u001b[0m\n\u001b[0;32m    249\u001b[0m \u001b[38;5;28;01mwith\u001b[39;00m record\u001b[38;5;241m.\u001b[39mstop_recording():\n\u001b[0;32m    250\u001b[0m   \u001b[38;5;28;01mif\u001b[39;00m \u001b[38;5;28mself\u001b[39m\u001b[38;5;241m.\u001b[39m_bound_context\u001b[38;5;241m.\u001b[39mexecuting_eagerly():\n\u001b[1;32m--> 251\u001b[0m     outputs \u001b[38;5;241m=\u001b[39m \u001b[38;5;28;43mself\u001b[39;49m\u001b[38;5;241;43m.\u001b[39;49m\u001b[43m_bound_context\u001b[49m\u001b[38;5;241;43m.\u001b[39;49m\u001b[43mcall_function\u001b[49m\u001b[43m(\u001b[49m\n\u001b[0;32m    252\u001b[0m \u001b[43m        \u001b[49m\u001b[38;5;28;43mself\u001b[39;49m\u001b[38;5;241;43m.\u001b[39;49m\u001b[43mname\u001b[49m\u001b[43m,\u001b[49m\n\u001b[0;32m    253\u001b[0m \u001b[43m        \u001b[49m\u001b[38;5;28;43mlist\u001b[39;49m\u001b[43m(\u001b[49m\u001b[43margs\u001b[49m\u001b[43m)\u001b[49m\u001b[43m,\u001b[49m\n\u001b[0;32m    254\u001b[0m \u001b[43m        \u001b[49m\u001b[38;5;28;43mlen\u001b[39;49m\u001b[43m(\u001b[49m\u001b[38;5;28;43mself\u001b[39;49m\u001b[38;5;241;43m.\u001b[39;49m\u001b[43mfunction_type\u001b[49m\u001b[38;5;241;43m.\u001b[39;49m\u001b[43mflat_outputs\u001b[49m\u001b[43m)\u001b[49m\u001b[43m,\u001b[49m\n\u001b[0;32m    255\u001b[0m \u001b[43m    \u001b[49m\u001b[43m)\u001b[49m\n\u001b[0;32m    256\u001b[0m   \u001b[38;5;28;01melse\u001b[39;00m:\n\u001b[0;32m    257\u001b[0m     outputs \u001b[38;5;241m=\u001b[39m make_call_op_in_graph(\n\u001b[0;32m    258\u001b[0m         \u001b[38;5;28mself\u001b[39m,\n\u001b[0;32m    259\u001b[0m         \u001b[38;5;28mlist\u001b[39m(args),\n\u001b[0;32m    260\u001b[0m         \u001b[38;5;28mself\u001b[39m\u001b[38;5;241m.\u001b[39m_bound_context\u001b[38;5;241m.\u001b[39mfunction_call_options\u001b[38;5;241m.\u001b[39mas_attrs(),\n\u001b[0;32m    261\u001b[0m     )\n",
      "File \u001b[1;32mc:\\Users\\Dell\\AppData\\Local\\Programs\\Python\\Python39\\lib\\site-packages\\tensorflow\\python\\eager\\context.py:1486\u001b[0m, in \u001b[0;36mContext.call_function\u001b[1;34m(self, name, tensor_inputs, num_outputs)\u001b[0m\n\u001b[0;32m   1484\u001b[0m cancellation_context \u001b[38;5;241m=\u001b[39m cancellation\u001b[38;5;241m.\u001b[39mcontext()\n\u001b[0;32m   1485\u001b[0m \u001b[38;5;28;01mif\u001b[39;00m cancellation_context \u001b[38;5;129;01mis\u001b[39;00m \u001b[38;5;28;01mNone\u001b[39;00m:\n\u001b[1;32m-> 1486\u001b[0m   outputs \u001b[38;5;241m=\u001b[39m \u001b[43mexecute\u001b[49m\u001b[38;5;241;43m.\u001b[39;49m\u001b[43mexecute\u001b[49m\u001b[43m(\u001b[49m\n\u001b[0;32m   1487\u001b[0m \u001b[43m      \u001b[49m\u001b[43mname\u001b[49m\u001b[38;5;241;43m.\u001b[39;49m\u001b[43mdecode\u001b[49m\u001b[43m(\u001b[49m\u001b[38;5;124;43m\"\u001b[39;49m\u001b[38;5;124;43mutf-8\u001b[39;49m\u001b[38;5;124;43m\"\u001b[39;49m\u001b[43m)\u001b[49m\u001b[43m,\u001b[49m\n\u001b[0;32m   1488\u001b[0m \u001b[43m      \u001b[49m\u001b[43mnum_outputs\u001b[49m\u001b[38;5;241;43m=\u001b[39;49m\u001b[43mnum_outputs\u001b[49m\u001b[43m,\u001b[49m\n\u001b[0;32m   1489\u001b[0m \u001b[43m      \u001b[49m\u001b[43minputs\u001b[49m\u001b[38;5;241;43m=\u001b[39;49m\u001b[43mtensor_inputs\u001b[49m\u001b[43m,\u001b[49m\n\u001b[0;32m   1490\u001b[0m \u001b[43m      \u001b[49m\u001b[43mattrs\u001b[49m\u001b[38;5;241;43m=\u001b[39;49m\u001b[43mattrs\u001b[49m\u001b[43m,\u001b[49m\n\u001b[0;32m   1491\u001b[0m \u001b[43m      \u001b[49m\u001b[43mctx\u001b[49m\u001b[38;5;241;43m=\u001b[39;49m\u001b[38;5;28;43mself\u001b[39;49m\u001b[43m,\u001b[49m\n\u001b[0;32m   1492\u001b[0m \u001b[43m  \u001b[49m\u001b[43m)\u001b[49m\n\u001b[0;32m   1493\u001b[0m \u001b[38;5;28;01melse\u001b[39;00m:\n\u001b[0;32m   1494\u001b[0m   outputs \u001b[38;5;241m=\u001b[39m execute\u001b[38;5;241m.\u001b[39mexecute_with_cancellation(\n\u001b[0;32m   1495\u001b[0m       name\u001b[38;5;241m.\u001b[39mdecode(\u001b[38;5;124m\"\u001b[39m\u001b[38;5;124mutf-8\u001b[39m\u001b[38;5;124m\"\u001b[39m),\n\u001b[0;32m   1496\u001b[0m       num_outputs\u001b[38;5;241m=\u001b[39mnum_outputs,\n\u001b[1;32m   (...)\u001b[0m\n\u001b[0;32m   1500\u001b[0m       cancellation_manager\u001b[38;5;241m=\u001b[39mcancellation_context,\n\u001b[0;32m   1501\u001b[0m   )\n",
      "File \u001b[1;32mc:\\Users\\Dell\\AppData\\Local\\Programs\\Python\\Python39\\lib\\site-packages\\tensorflow\\python\\eager\\execute.py:53\u001b[0m, in \u001b[0;36mquick_execute\u001b[1;34m(op_name, num_outputs, inputs, attrs, ctx, name)\u001b[0m\n\u001b[0;32m     51\u001b[0m \u001b[38;5;28;01mtry\u001b[39;00m:\n\u001b[0;32m     52\u001b[0m   ctx\u001b[38;5;241m.\u001b[39mensure_initialized()\n\u001b[1;32m---> 53\u001b[0m   tensors \u001b[38;5;241m=\u001b[39m \u001b[43mpywrap_tfe\u001b[49m\u001b[38;5;241;43m.\u001b[39;49m\u001b[43mTFE_Py_Execute\u001b[49m\u001b[43m(\u001b[49m\u001b[43mctx\u001b[49m\u001b[38;5;241;43m.\u001b[39;49m\u001b[43m_handle\u001b[49m\u001b[43m,\u001b[49m\u001b[43m \u001b[49m\u001b[43mdevice_name\u001b[49m\u001b[43m,\u001b[49m\u001b[43m \u001b[49m\u001b[43mop_name\u001b[49m\u001b[43m,\u001b[49m\n\u001b[0;32m     54\u001b[0m \u001b[43m                                      \u001b[49m\u001b[43minputs\u001b[49m\u001b[43m,\u001b[49m\u001b[43m \u001b[49m\u001b[43mattrs\u001b[49m\u001b[43m,\u001b[49m\u001b[43m \u001b[49m\u001b[43mnum_outputs\u001b[49m\u001b[43m)\u001b[49m\n\u001b[0;32m     55\u001b[0m \u001b[38;5;28;01mexcept\u001b[39;00m core\u001b[38;5;241m.\u001b[39m_NotOkStatusException \u001b[38;5;28;01mas\u001b[39;00m e:\n\u001b[0;32m     56\u001b[0m   \u001b[38;5;28;01mif\u001b[39;00m name \u001b[38;5;129;01mis\u001b[39;00m \u001b[38;5;129;01mnot\u001b[39;00m \u001b[38;5;28;01mNone\u001b[39;00m:\n",
      "\u001b[1;31mKeyboardInterrupt\u001b[0m: "
     ]
    }
   ],
   "source": [
    "# Fit the model\n",
    "epochs = 50 \n",
    "batch_size = 25\n",
    "history = model.fit(datagen.flow(x_train,y_train, batch_size=batch_size),\n",
    "                              epochs = epochs, validation_data = (x_validate,y_validate),\n",
    "                              verbose = 1\n",
    "                              , callbacks=[learning_rate_reduction])"
   ]
  },
  {
   "cell_type": "code",
   "execution_count": 168,
   "metadata": {},
   "outputs": [
    {
     "name": "stdout",
     "output_type": "stream",
     "text": [
      "9/9 [==============================] - 3s 295ms/step - loss: 1.9473 - accuracy: 0.1321\n",
      "4/4 [==============================] - 1s 249ms/step - loss: 1.9535 - accuracy: 0.1250\n",
      "Validation: accuracy = 0.125000  ;  loss_v = 1.953478\n",
      "Test: accuracy = 0.132143  ;  loss = 1.947256\n"
     ]
    },
    {
     "name": "stderr",
     "output_type": "stream",
     "text": [
      "c:\\Users\\Dell\\AppData\\Local\\Programs\\Python\\Python39\\lib\\site-packages\\keras\\src\\engine\\training.py:3103: UserWarning: You are saving your model as an HDF5 file via `model.save()`. This file format is considered legacy. We recommend using instead the native Keras format, e.g. `model.save('my_model.keras')`.\n",
      "  saving_api.save_model(\n"
     ]
    }
   ],
   "source": [
    "loss, accuracy = model.evaluate(x_test, y_test, verbose=1)\n",
    "loss_v, accuracy_v = model.evaluate(x_validate, y_validate, verbose=1)\n",
    "print(\"Validation: accuracy = %f  ;  loss_v = %f\" % (accuracy_v, loss_v))\n",
    "print(\"Test: accuracy = %f  ;  loss = %f\" % (accuracy, loss))\n",
    "model.save(\"model.h5\")"
   ]
  },
  {
   "cell_type": "code",
   "execution_count": 187,
   "metadata": {},
   "outputs": [],
   "source": [
    "#1. Function to plot model's validation loss and validation accuracy\n",
    "def plot_model_history(model_history):\n",
    "    fig, axs = plt.subplots(1,2,figsize=(15,5))\n",
    "    # summarize history for accuracy\n",
    "    axs[0].plot(range(1,len(model_history.history['accuracy'])+1),model_history.history['accuracy'])\n",
    "    axs[0].plot(range(1,len(model_history.history['val_accuracy'])+1),model_history.history['val_accuracy'])\n",
    "    axs[0].set_title('Model Accuracy')\n",
    "    axs[0].set_ylabel('Accuracy')\n",
    "    axs[0].set_xlabel('Epoch')\n",
    "    axs[0].set_xticks(np.arange(1,len(model_history.history['accuracy'])+1))\n",
    "    axs[0].legend(['train', 'val'], loc='best')\n",
    "    # summarize history for loss\n",
    "    axs[1].plot(range(1,len(model_history.history['loss'])+1),model_history.history['loss'])\n",
    "    axs[1].plot(range(1,len(model_history.history['val_loss'])+1),model_history.history['val_loss'])\n",
    "    axs[1].set_title('Model Loss')\n",
    "    axs[1].set_ylabel('Loss')\n",
    "    axs[1].set_xlabel('Epoch')\n",
    "    #axs[1].set_xticks(np.arange(1,len(model_history.history['loss'])+1),len(model_history.history['loss'])/10)\n",
    "    axs[1].legend(['train', 'val'], loc='best')\n",
    "    plt.show()"
   ]
  },
  {
   "cell_type": "code",
   "execution_count": 188,
   "metadata": {},
   "outputs": [
    {
     "data": {
      "image/png": "[encoded data removed]",
      "text/plain": [
       "<Figure size 1080x360 with 2 Axes>"
      ]
     },
     "metadata": {
      "needs_background": "light"
     },
     "output_type": "display_data"
    }
   ],
   "source": [
    "plot_model_history(history)"
   ]
  },
  {
   "attachments": {
    "image.png": {
     "image/png": "[encoded data removed]"
    }
   },
   "cell_type": "markdown",
   "metadata": {},
   "source": [
    "Output![image.png](attachment:image.png)"
   ]
  },
  {
   "cell_type": "code",
   "execution_count": 189,
   "metadata": {},
   "outputs": [
    {
     "name": "stdout",
     "output_type": "stream",
     "text": [
      "4/4 [==============================] - 2s 259ms/step\n"
     ]
    },
    {
     "data": {
      "image/png": "[encoded data removed]",
      "text/plain": [
       "<Figure size 432x288 with 2 Axes>"
      ]
     },
     "metadata": {
      "needs_background": "light"
     },
     "output_type": "display_data"
    }
   ],
   "source": [
    "# Function to plot confusion matrix    \n",
    "def plot_confusion_matrix(cm, classes,\n",
    "                          normalize=False,\n",
    "                          title='Confusion matrix',\n",
    "                          cmap=plt.cm.Blues):\n",
    "    \"\"\"\n",
    "    This function prints and plots the confusion matrix.\n",
    "    Normalization can be applied by setting `normalize=True`.\n",
    "    \"\"\"\n",
    "    plt.imshow(cm, interpolation='nearest', cmap=cmap)\n",
    "    plt.title(title)\n",
    "    plt.colorbar()\n",
    "    tick_marks = np.arange(len(classes))\n",
    "    plt.xticks(tick_marks, classes, rotation=45)\n",
    "    plt.yticks(tick_marks, classes)\n",
    "\n",
    "    if normalize:\n",
    "        cm = cm.astype('float') / cm.sum(axis=1)[:, np.newaxis]\n",
    "\n",
    "    thresh = cm.max() / 2.\n",
    "    for i, j in itertools.product(range(cm.shape[0]), range(cm.shape[1])):\n",
    "        plt.text(j, i, cm[i, j],\n",
    "                 horizontalalignment=\"center\",\n",
    "                 color=\"white\" if cm[i, j] > thresh else \"black\")\n",
    "\n",
    "    plt.tight_layout()\n",
    "    plt.ylabel('True label')\n",
    "    plt.xlabel('Predicted label')\n",
    "\n",
    "# Predict the values from the validation dataset\n",
    "Y_pred = model.predict(x_validate)\n",
    "# Convert predictions classes to one hot vectors \n",
    "Y_pred_classes = np.argmax(Y_pred,axis = 1) \n",
    "# Convert validation observations to one hot vectors\n",
    "Y_true = np.argmax(y_validate,axis = 1) \n",
    "# compute the confusion matrix\n",
    "confusion_mtx = confusion_matrix(Y_true, Y_pred_classes)\n",
    "\n",
    " \n",
    "\n",
    "# plot the confusion matrix\n",
    "plot_confusion_matrix(confusion_mtx, classes = range(7))"
   ]
  },
  {
   "cell_type": "markdown",
   "metadata": {},
   "source": [
    "### Approach 2"
   ]
  },
  {
   "cell_type": "code",
   "execution_count": 17,
   "metadata": {},
   "outputs": [
    {
     "data": {
      "text/plain": [
       "lesion_id                                              HAM_0005938\n",
       "image_id                                          ISIC_0025596_HVA\n",
       "dx                                                            vasc\n",
       "dx_type                                                  consensus\n",
       "age                                                           45.0\n",
       "sex                                                         female\n",
       "localization                                               abdomen\n",
       "dataset                                              vidir_molemax\n",
       "cell_type                                         Vascular lesions\n",
       "cell_type_idx                                                    6\n",
       "Feature_1                                                       50\n",
       "Feature_2                                                     50.0\n",
       "path             ..\\Data\\HAM10000_images_part_3\\ISIC_0025596_HV...\n",
       "image            [[[196, 148, 162], [198, 150, 164], [199, 151,...\n",
       "Name: 1, dtype: object"
      ]
     },
     "execution_count": 17,
     "metadata": {},
     "output_type": "execute_result"
    }
   ],
   "source": [
    "new_dataset.iloc[1]"
   ]
  },
  {
   "cell_type": "code",
   "execution_count": 18,
   "metadata": {},
   "outputs": [],
   "source": [
    "import os\n",
    "import h5py\n",
    "\n",
    "#--------------------\n",
    "# tunable-parameters\n",
    "#--------------------\n",
    "images_per_class = 80\n",
    "fixed_size       = tuple((256, 246))\n",
    "\n",
    "h5_data          = 'output/data.h5'\n",
    "h5_labels        = 'output/labels.h5'\n",
    "bins             = 8"
   ]
  },
  {
   "cell_type": "code",
   "execution_count": 19,
   "metadata": {},
   "outputs": [],
   "source": [
    "# feature-descriptor-1: Hu Moments\n",
    "def fd_hu_moments(image):\n",
    "    image = cv2.cvtColor(image, cv2.COLOR_BGR2GRAY)\n",
    "    feature = cv2.HuMoments(cv2.moments(image)).flatten()\n",
    "    return feature"
   ]
  },
  {
   "cell_type": "code",
   "execution_count": 20,
   "metadata": {},
   "outputs": [],
   "source": [
    "# feature-descriptor-2: Haralick Texture\n",
    "def fd_haralick(image):\n",
    "    # convert the image to grayscale\n",
    "    gray = cv2.cvtColor(image, cv2.COLOR_BGR2GRAY)\n",
    "    # compute the haralick texture feature vector\n",
    "    haralick = mahotas.features.haralick(gray).mean(axis=0)\n",
    "    # return the result\n",
    "    return haralick"
   ]
  },
  {
   "cell_type": "code",
   "execution_count": 21,
   "metadata": {},
   "outputs": [],
   "source": [
    "# feature-descriptor-3: Color Histogram\n",
    "def fd_histogram(image, mask=None):\n",
    "    # convert the image to HSV color-space\n",
    "    image = cv2.cvtColor(image, cv2.COLOR_BGR2HSV)\n",
    "    # compute the color histogram\n",
    "    hist  = cv2.calcHist([image], [0, 1, 2], None, [bins, bins, bins], [0, 256, 0, 256, 0, 256])\n",
    "    # normalize the histogram\n",
    "    cv2.normalize(hist, hist)\n",
    "    # return the histogram\n",
    "    return hist.flatten()"
   ]
  },
  {
   "cell_type": "code",
   "execution_count": 26,
   "metadata": {},
   "outputs": [],
   "source": [
    "def get_hog(image, _wind_size=8, _orientations=8):\n",
    "    \n",
    "    \"\"\"generate Histogram of gradients as a feature vector for an given image \"\"\"\n",
    "    \n",
    "    fd, hog_image = hog(image, orientations=_orientations, pixels_per_cell=(_wind_size, _wind_size),\n",
    "                    cells_per_block=(1, 1), visualize=True, channel_axis=-1, feature_vector=True)\n",
    "    \n",
    "    return fd"
   ]
  },
  {
   "cell_type": "code",
   "execution_count": 37,
   "metadata": {},
   "outputs": [
    {
     "name": "stdout",
     "output_type": "stream",
     "text": [
      "['Actinic keratoses', 'Basal cell carcinoma', 'Benign keratosis-like lesions ', 'Dermatofibroma', 'Melanocytic nevi', 'Melanoma', 'Vascular lesions']\n"
     ]
    }
   ],
   "source": [
    "# get the training labels\n",
    "train_labels = list(set(new_dataset.cell_type))\n",
    "\n",
    "# sort the training labels\n",
    "train_labels.sort()\n",
    "print(train_labels)\n",
    "\n",
    "# empty lists to hold feature vectors and labels\n",
    "global_features = []\n",
    "labels          = []"
   ]
  },
  {
   "cell_type": "code",
   "execution_count": 40,
   "metadata": {},
   "outputs": [],
   "source": [
    "def filter_data(dataset,x):\n",
    "    return dataset[dataset['cell_type'] == x]\n",
    "\n",
    "\n",
    "\n",
    "def extract_features(dataset,class_):\n",
    "    \n",
    "    data = filter_data(dataset,class_)\n",
    "    \n",
    "    for index, row in data.iterrows():\n",
    "        #print(row[\"Name\"], row[\"Age\"])\n",
    "\n",
    "        ####################################\n",
    "        # Global Feature extraction\n",
    "        ####################################\n",
    "        image = row['image']\n",
    "        fv_hu_moments = fd_hu_moments(image)\n",
    "        fv_haralick   = fd_haralick(image)\n",
    "        fv_histogram  = fd_histogram(image)\n",
    "        fv_hog        = get_hog(image)\n",
    "        ###################################\n",
    "        # Concatenate global features\n",
    "        ###################################\n",
    "        global_feature = np.hstack([fv_histogram, fv_haralick, fv_hu_moments, fv_hog])\n",
    "        # update the list of labels and feature vectors\n",
    "        labels.append(row['cell_type'])\n",
    "        global_features.append(global_feature)\n",
    "        \n",
    "    print(\"[STATUS] processed folder: {}\".format(row['cell_type']))\n",
    "    "
   ]
  },
  {
   "cell_type": "code",
   "execution_count": 33,
   "metadata": {},
   "outputs": [],
   "source": [
    "classes = list(set(new_dataset.cell_type))"
   ]
  },
  {
   "cell_type": "code",
   "execution_count": 41,
   "metadata": {},
   "outputs": [
    {
     "name": "stdout",
     "output_type": "stream",
     "text": [
      "[STATUS] processed folder: Melanocytic nevi\n",
      "[STATUS] processed folder: Vascular lesions\n",
      "[STATUS] processed folder: Benign keratosis-like lesions \n",
      "[STATUS] processed folder: Dermatofibroma\n",
      "[STATUS] processed folder: Basal cell carcinoma\n",
      "[STATUS] processed folder: Melanoma\n",
      "[STATUS] processed folder: Actinic keratoses\n",
      "[STATUS] completed Global Feature Extraction...\n"
     ]
    }
   ],
   "source": [
    "for c in classes:\n",
    "    extract_features(new_dataset, c)\n",
    "print(\"[STATUS] completed Global Feature Extraction...\")"
   ]
  },
  {
   "cell_type": "code",
   "execution_count": 43,
   "metadata": {},
   "outputs": [
    {
     "name": "stdout",
     "output_type": "stream",
     "text": [
      "[STATUS] feature vector size (6495, 8212)\n",
      "[STATUS] training Labels (6495,)\n",
      "[STATUS] training labels encoded...\n",
      "[STATUS] feature vector normalized...\n",
      "[STATUS] target labels: [6 6 6 ... 0 0 0]\n",
      "[STATUS] target labels shape: (6495,)\n"
     ]
    }
   ],
   "source": [
    "from sklearn.preprocessing import LabelEncoder\n",
    "from sklearn.preprocessing import MinMaxScaler\n",
    "\n",
    "# get the overall feature vector size\n",
    "print(\"[STATUS] feature vector size {}\".format(np.array(global_features).shape))\n",
    "\n",
    "# get the overall training label size\n",
    "print(\"[STATUS] training Labels {}\".format(np.array(labels).shape))\n",
    "\n",
    "# encode the target labels\n",
    "targetNames = np.unique(labels)\n",
    "le          = LabelEncoder()\n",
    "target      = le.fit_transform(labels)\n",
    "print(\"[STATUS] training labels encoded...\")\n",
    "\n",
    "# scale features in the range (0-1)\n",
    "scaler            = MinMaxScaler(feature_range=(0, 1))\n",
    "rescaled_features = scaler.fit_transform(global_features)\n",
    "print(\"[STATUS] feature vector normalized...\")\n",
    "\n",
    "print(\"[STATUS] target labels: {}\".format(target))\n",
    "print(\"[STATUS] target labels shape: {}\".format(target.shape))\n",
    "\n",
    "# save the feature vector using HDF5\n",
    "h5f_data = h5py.File(h5_data, 'w')\n",
    "h5f_data.create_dataset('dataset_1', data=np.array(rescaled_features))\n",
    "\n",
    "h5f_label = h5py.File(h5_labels, 'w')\n",
    "h5f_label.create_dataset('dataset_1', data=np.array(target))\n",
    "\n",
    "h5f_data.close()\n",
    "h5f_label.close()\n",
    "\n",
    "print(\"[STATUS] end of training..\")"
   ]
  },
  {
   "cell_type": "code",
   "execution_count": 3,
   "metadata": {},
   "outputs": [],
   "source": [
    "import h5py\n",
    "import numpy as np\n",
    "import os\n",
    "import glob\n",
    "import cv2\n",
    "import warnings\n",
    "from matplotlib import pyplot\n",
    "from sklearn.model_selection import train_test_split, cross_val_score\n",
    "from sklearn.model_selection import KFold, StratifiedKFold\n",
    "from sklearn.metrics import confusion_matrix, accuracy_score, classification_report\n",
    "from sklearn.linear_model import LogisticRegression\n",
    "from sklearn.tree import DecisionTreeClassifier\n",
    "from sklearn.ensemble import RandomForestClassifier\n",
    "from sklearn.neighbors import KNeighborsClassifier\n",
    "from sklearn.discriminant_analysis import LinearDiscriminantAnalysis\n",
    "from sklearn.naive_bayes import GaussianNB\n",
    "from sklearn.svm import SVC\n",
    "\n",
    "warnings.filterwarnings('ignore')"
   ]
  },
  {
   "cell_type": "code",
   "execution_count": 5,
   "metadata": {},
   "outputs": [
    {
     "name": "stdout",
     "output_type": "stream",
     "text": [
      "[STATUS] features shape: (6495, 8212)\n",
      "[STATUS] labels shape: (6495,)\n",
      "[STATUS] training started...\n"
     ]
    }
   ],
   "source": [
    "num_trees = 100\n",
    "test_size = 0.10\n",
    "seed      = 9\n",
    "h5_data    = 'output/data.h5'\n",
    "h5_labels  = 'output/labels.h5'\n",
    "# create all the machine learning models\n",
    "models = []\n",
    "models.append(('LR', LogisticRegression(random_state=seed)))\n",
    "models.append(('LDA', LinearDiscriminantAnalysis()))\n",
    "models.append(('KNN', KNeighborsClassifier()))\n",
    "models.append(('CART', DecisionTreeClassifier(random_state=seed)))\n",
    "models.append(('RF', RandomForestClassifier(n_estimators=num_trees, random_state=seed)))\n",
    "models.append(('NB', GaussianNB()))\n",
    "models.append(('SVM', SVC(random_state=seed)))\n",
    "\n",
    "# variables to hold the results and names\n",
    "results = []\n",
    "names   = []\n",
    "\n",
    "# import the feature vector and trained labels\n",
    "h5f_data  = h5py.File(h5_data, 'r')\n",
    "h5f_label = h5py.File(h5_labels, 'r')\n",
    "\n",
    "global_features_string = h5f_data['dataset_1']\n",
    "global_labels_string   = h5f_label['dataset_1']\n",
    "\n",
    "global_features = np.array(global_features_string)\n",
    "global_labels   = np.array(global_labels_string)\n",
    "\n",
    "h5f_data.close()\n",
    "h5f_label.close()\n",
    "\n",
    "# verify the shape of the feature vector and labels\n",
    "print(\"[STATUS] features shape: {}\".format(global_features.shape))\n",
    "print(\"[STATUS] labels shape: {}\".format(global_labels.shape))\n",
    "\n",
    "print(\"[STATUS] training started...\")"
   ]
  },
  {
   "cell_type": "code",
   "execution_count": 6,
   "metadata": {},
   "outputs": [
    {
     "name": "stdout",
     "output_type": "stream",
     "text": [
      "[STATUS] splitted train and test data...\n",
      "Train data  : (5845, 8212)\n",
      "Test data   : (650, 8212)\n",
      "Train labels: (5845,)\n",
      "Test labels : (650,)\n"
     ]
    }
   ],
   "source": [
    "# split the training and testing data\n",
    "(trainDataGlobal, testDataGlobal, trainLabelsGlobal, testLabelsGlobal) = train_test_split(np.array(global_features),\n",
    "                                                                                          np.array(global_labels),\n",
    "                                                                                          test_size=test_size,\n",
    "                                                                                          random_state=seed)\n",
    "\n",
    "print(\"[STATUS] splitted train and test data...\")\n",
    "print(\"Train data  : {}\".format(trainDataGlobal.shape))\n",
    "print(\"Test data   : {}\".format(testDataGlobal.shape))\n",
    "print(\"Train labels: {}\".format(trainLabelsGlobal.shape))\n",
    "print(\"Test labels : {}\".format(testLabelsGlobal.shape))"
   ]
  },
  {
   "cell_type": "code",
   "execution_count": 10,
   "metadata": {},
   "outputs": [
    {
     "name": "stdout",
     "output_type": "stream",
     "text": [
      "LR: 0.983060 (0.006867)\n"
     ]
    }
   ],
   "source": [
    "# 10-fold cross validation\n",
    "for name, model in models:\n",
    "    kfold = KFold(n_splits=10)\n",
    "    cv_results = cross_val_score(model, trainDataGlobal, trainLabelsGlobal, cv=kfold, scoring='accuracy')\n",
    "    results.append(cv_results)\n",
    "    names.append(name)\n",
    "    msg = \"%s: %f (%f)\" % (name, cv_results.mean(), cv_results.std())\n",
    "    print(msg)\n",
    "\n",
    "# boxplot algorithm comparison\n",
    "fig = pyplot.figure()\n",
    "fig.suptitle('Machine Learning algorithm comparison')\n",
    "ax = fig.add_subplot(111)\n",
    "pyplot.boxplot(results)\n",
    "ax.set_xticklabels(names)\n",
    "pyplot.show()"
   ]
  },
  {
   "attachments": {
    "image.png": {
     "image/png": "[encoded data removed]"
    }
   },
   "cell_type": "markdown",
   "metadata": {},
   "source": [
    "![image.png](attachment:image.png)"
   ]
  },
  {
   "cell_type": "code",
   "execution_count": null,
   "metadata": {},
   "outputs": [],
   "source": []
  }
 ],
 "metadata": {
  "kernelspec": {
   "display_name": "Python 3",
   "language": "python",
   "name": "python3"
  },
  "language_info": {
   "codemirror_mode": {
    "name": "ipython",
    "version": 3
   },
   "file_extension": ".py",
   "mimetype": "text/x-python",
   "name": "python",
   "nbconvert_exporter": "python",
   "pygments_lexer": "ipython3",
   "version": "3.9.10"
  }
 },
 "nbformat": 4,
 "nbformat_minor": 2
}
